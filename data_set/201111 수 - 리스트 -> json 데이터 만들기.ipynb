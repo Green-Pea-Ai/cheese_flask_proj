{
 "cells": [
  {
   "cell_type": "code",
   "execution_count": 3,
   "metadata": {},
   "outputs": [
    {
     "ename": "SyntaxError",
     "evalue": "invalid syntax (<ipython-input-3-eea8d0c6ebef>, line 2)",
     "output_type": "error",
     "traceback": [
      "\u001b[0;36m  File \u001b[0;32m\"<ipython-input-3-eea8d0c6ebef>\"\u001b[0;36m, line \u001b[0;32m2\u001b[0m\n\u001b[0;31m    cheese(cheese_id=p1, ranking=1, category=부라타,                     brand=벨지오이오소, name=부라타 치즈, content=버터처럼 부드러운 크림이 들어있는 생치즈, texture=후레쉬치즈,                         types=자연치즈, price=14900, img=https://img-cf.kurly.com/shop/data/goods/1515396236580l0.jpg),\u001b[0m\n\u001b[0m                                                                                              ^\u001b[0m\n\u001b[0;31mSyntaxError\u001b[0m\u001b[0;31m:\u001b[0m invalid syntax\n"
     ]
    }
   ],
   "source": [
    "cheese_list = [\n",
    "cheese(cheese_id=p1, ranking=1, category=부라타,                     brand=벨지오이오소, name=부라타 치즈, content=버터처럼 부드러운 크림이 들어있는 생치즈, texture=후레쉬치즈,                         types=자연치즈, price=14900, img=https://img-cf.kurly.com/shop/data/goods/1515396236580l0.jpg), \n",
    "\n",
    "cheese(cheese_id=p10, ranking=10, category=모짜렐라,                     brand=푸글리제, name=모짜렐라, content=담백하고 결이 살아있는 생 모짜렐라, texture=후레쉬치즈,                         types=자연치즈, price=5500, img=https://img-cf.kurly.com/shop/data/goods/1487213431856l0.jpg), \n",
    "\n",
    "cheese(cheese_id=p11, ranking=11, category=에멘탈,                     brand=프리코, name=에멘탈 슬라이스, content=전체적인 맛은 가벼운 편이지만 감미로운 풍미가 인상적인 치즈, texture=세미하드치즈,                         types=자연치즈, price=5500, img=https://img-cf.kurly.com/shop/data/goodsview/20170222/gv40000000201_1.jpg)\n",
    "]"
   ]
  },
  {
   "cell_type": "code",
   "execution_count": 7,
   "metadata": {},
   "outputs": [],
   "source": [
    "a = [1, 2 ,3]"
   ]
  },
  {
   "cell_type": "code",
   "execution_count": null,
   "metadata": {},
   "outputs": [],
   "source": [
    "\n"
   ]
  },
  {
   "cell_type": "code",
   "execution_count": 15,
   "metadata": {},
   "outputs": [
    {
     "name": "stdout",
     "output_type": "stream",
     "text": [
      "[{\"a\": 1, \"b\": 2, \"c\": 3}]\n"
     ]
    }
   ],
   "source": [
    "from collections import OrderedDict\n",
    "import json\n",
    "\n",
    "d = OrderedDict(a=1, b=2, c=3)\n",
    "\n",
    "data = [d]\n",
    "print(json.dumps(data))"
   ]
  },
  {
   "cell_type": "code",
   "execution_count": 17,
   "metadata": {},
   "outputs": [
    {
     "ename": "SyntaxError",
     "evalue": "invalid syntax (<ipython-input-17-cbd236cedd0b>, line 3)",
     "output_type": "error",
     "traceback": [
      "\u001b[0;36m  File \u001b[0;32m\"<ipython-input-17-cbd236cedd0b>\"\u001b[0;36m, line \u001b[0;32m3\u001b[0m\n\u001b[0;31m    (cheese_id=p1, ranking=1, category=부라타, brand=벨지오이오소, name=부라타 치즈, content=버터처럼 부드러운 크림이 들어있는 생치즈, texture=후레쉬치즈, types=자연치즈, price=14900, img=https://img-cf.kurly.com/shop/data/goods/1515396236580l0.jpg)\u001b[0m\n\u001b[0m                                                                    ^\u001b[0m\n\u001b[0;31mSyntaxError\u001b[0m\u001b[0;31m:\u001b[0m invalid syntax\n"
     ]
    }
   ],
   "source": [
    "aq = OrderedDict([\n",
    "cheese\n",
    "(cheese_id=p1, ranking=1, category=부라타, brand=벨지오이오소, name=부라타 치즈, content=버터처럼 부드러운 크림이 들어있는 생치즈, texture=후레쉬치즈, types=자연치즈, price=14900, img=https://img-cf.kurly.com/shop/data/goods/1515396236580l0.jpg)\n",
    "])"
   ]
  },
  {
   "cell_type": "code",
   "execution_count": 19,
   "metadata": {},
   "outputs": [
    {
     "name": "stdout",
     "output_type": "stream",
     "text": [
      "{\"a\": 1, \"b\": 2, \"c\": 3}\n"
     ]
    }
   ],
   "source": [
    "from collections import OrderedDict\n",
    "import json\n",
    "\n",
    "d = OrderedDict(a=1, b=2, c=3)\n",
    "\n",
    "print(json.dumps(d))"
   ]
  },
  {
   "cell_type": "code",
   "execution_count": null,
   "metadata": {},
   "outputs": [],
   "source": []
  }
 ],
 "metadata": {
  "kernelspec": {
   "display_name": "Python 3",
   "language": "python",
   "name": "python3"
  },
  "language_info": {
   "codemirror_mode": {
    "name": "ipython",
    "version": 3
   },
   "file_extension": ".py",
   "mimetype": "text/x-python",
   "name": "python",
   "nbconvert_exporter": "python",
   "pygments_lexer": "ipython3",
   "version": "3.7.6"
  }
 },
 "nbformat": 4,
 "nbformat_minor": 4
}
