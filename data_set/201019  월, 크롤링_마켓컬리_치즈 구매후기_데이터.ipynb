{
 "cells": [
  {
   "cell_type": "code",
   "execution_count": 8,
   "metadata": {},
   "outputs": [
    {
     "name": "stdout",
     "output_type": "stream",
     "text": [
      "Requirement already satisfied: selenium in /home/bitai/anaconda3/lib/python3.7/site-packages (3.141.0)\n",
      "Requirement already satisfied: urllib3 in /home/bitai/anaconda3/lib/python3.7/site-packages (from selenium) (1.25.8)\n",
      "Note: you may need to restart the kernel to use updated packages.\n"
     ]
    }
   ],
   "source": [
    "pip install selenium"
   ]
  },
  {
   "cell_type": "code",
   "execution_count": 2,
   "metadata": {
    "scrolled": true
   },
   "outputs": [
    {
     "name": "stdout",
     "output_type": "stream",
     "text": [
      "Requirement already satisfied: beautifulsoup4 in /home/bitai/anaconda3/lib/python3.7/site-packages (4.8.2)\n",
      "Requirement already satisfied: soupsieve>=1.2 in /home/bitai/anaconda3/lib/python3.7/site-packages (from beautifulsoup4) (1.9.5)\n",
      "Note: you may need to restart the kernel to use updated packages.\n"
     ]
    }
   ],
   "source": [
    "pip install beautifulsoup4"
   ]
  },
  {
   "cell_type": "code",
   "execution_count": 2,
   "metadata": {},
   "outputs": [
    {
     "name": "stdout",
     "output_type": "stream",
     "text": [
      "hello wandoo world!\n"
     ]
    }
   ],
   "source": [
    "a = \"hello wandoo world!\"\n",
    "print(a)"
   ]
  },
  {
   "cell_type": "code",
   "execution_count": 89,
   "metadata": {
    "scrolled": true
   },
   "outputs": [
    {
     "data": {
      "text/plain": [
       "'<html lang=\"ko\"><head><script type=\"text/javascript\" src=\"https://bam.nr-data.net/1/NRJS-5dec146893a58b07e31?a=602251426&amp;v=1184.ab39b52&amp;to=MlZUZhdUXkoCAkBQDQscY0AMGkNRDBEbXg0KV0UdAlpfXRA%2BRlwUDFZBbQlcQ01NEVxJ&amp;rst=1011&amp;ck=1&amp;ref=https://www.kurly.com/shop/goods/goods_review_list.php&amp;ap=92&amp;be=563&amp;fe=787&amp;dc=731&amp;perf=%7B%22timing%22:%7B%22of%22:1603089339375,%22n%22:0,%22f%22:2,%22dn%22:2,%22dne%22:2,%22c%22:2,%22ce%22:2,%22rq%22:384,%22rp%22:504,%22rpe%22:544,%22dl%22:522,%22di%22:731,%22ds%22:731,%22de%22:735,%22dc%22:787,%22l%22:787,%22le%22:791%7D,%22navigation%22:%7B%7D%7D&amp;fp=790&amp;fcp=790&amp;at=HhFXEF9OTUQ%3D&amp;jsonp=NREUM.setToken\"></script><script src=\"https://js-agent.newrelic.com/nr-1184.min.js\"></script><script type=\"text/javascript\">(window.NREUM||(NREUM={})).loader_config={licenseKey:\"NRJS-5dec146893a58b07e31\",applicationID:\"602251426\"};window.NREUM||(NREUM={}),__nr_require=function(e,t,n){function r(n){if(!t[n]){var i=t[n]={exports:{}};e[n][0].call(i.exports,function(t){var i=e[n][1][t];return r(i||t)},i,i.exports)}return t[n].exports}if(\"function\"==typeof __nr_require)return __nr_require;for(var i=0;i<n.length;i++)r(n[i]);return r}({1:[function(e,t,n){function r(){}function i(e,t,n){return function(){return o(e,[u.now()].concat(c(arguments)),t?null:this,n),t?void 0:this}}var o=e(\"handle\"),a=e(6),c=e(7),f=e(\"ee\").get(\"tracer\"),u=e(\"loader\"),s=NREUM;\"undefined\"==typeof window.newrelic&&(newrelic=s);var d=[\"setPageViewName\",\"setCustomAttribute\",\"setErrorHandler\",\"finished\",\"addToTrace\",\"inlineHit\",\"addRelease\"],p=\"api-\",l=p+\"ixn-\";a(d,function(e,t){s[t]=i(p+t,!0,\"api\")}),s.addPageAction=i(p+\"addPageAction\",!0),s.setCurrentRouteName=i(p+\"routeName\",!0),t.exports=newrelic,s.interaction=function(){return(new r).get()};var m=r.prototype={createTracer:function(e,t){var n={},r=this,i=\"function\"==typeof t;return o(l+\"tracer\",[u.now(),e,n],r),function(){if(f.emit((i?\"\":\"no-\")+\"fn-start\",[u.now(),r,i],n),i)try{return t.apply(this,arguments)}catch(e){throw f.emit(\"fn-err\",[arguments,this,e],n),e}finally{f.emit(\"fn-end\",[u.now()],n)}}}};a(\"actionText,setName,setAttribute,save,ignore,onEnd,getContext,end,get\".split(\",\"),function(e,t){m[t]=i(l+t)}),newrelic.noticeError=function(e,t){\"string\"==typeof e&&(e=new Error(e)),o(\"err\",[e,u.now(),!1,t])}},{}],2:[function(e,t,n){function r(){return c.exists&&performance.now?Math.round(performance.now()):(o=Math.max((new Date).getTime(),o))-a}function i(){return o}var o=(new Date).getTime(),a=o,c=e(8);t.exports=r,t.exports.offset=a,t.exports.getLastTimestamp=i},{}],3:[function(e,t,n){function r(e,t){var n=e.getEntries();n.forEach(function(e){\"first-paint\"===e.name?d(\"timing\",[\"fp\",Math.floor(e.startTime)]):\"first-contentful-paint\"===e.name&&d(\"timing\",[\"fcp\",Math.floor(e.startTime)])})}function i(e,t){var n=e.getEntries();n.length>0&&d(\"lcp\",[n[n.length-1]])}function o(e){e.getEntries().forEach(function(e){e.hadRecentInput||d(\"cls\",[e])})}function a(e){if(e instanceof m&&!g){var t=Math.round(e.timeStamp),n={type:e.type};t<=p.now()?n.fid=p.now()-t:t>p.offset&&t<=Date.now()?(t-=p.offset,n.fid=p.now()-t):t=p.now(),g=!0,d(\"timing\",[\"fi\",t,n])}}function c(e){d(\"pageHide\",[p.now(),e])}if(!(\"init\"in NREUM&&\"page_view_timing\"in NREUM.init&&\"enabled\"in NREUM.init.page_view_timing&&NREUM.init.page_view_timing.enabled===!1)){var f,u,s,d=e(\"handle\"),p=e(\"loader\"),l=e(5),m=NREUM.o.EV;if(\"PerformanceObserver\"in window&&\"function\"==typeof window.PerformanceObserver){f=new PerformanceObserver(r);try{f.observe({entryTypes:[\"paint\"]})}catch(v){}u=new PerformanceObserver(i);try{u.observe({entryTypes:[\"largest-contentful-paint\"]})}catch(v){}s=new PerformanceObserver(o);try{s.observe({type:\"layout-shift\",buffered:!0})}catch(v){}}if(\"addEventListener\"in document){var g=!1,y=[\"click\",\"keydown\",\"mousedown\",\"pointerdown\",\"touchstart\"];y.forEach(function(e){document.addEventListener(e,a,!1)})}l(c)}},{}],4:[function(e,t,n){function r(e,t){if(!i)return!1;if(e!==i)return!1;if(!t)return!0;if(!o)return!1;for(var n=o.split(\".\"),r=t.split(\".\"),a=0;a<r.length;a++)if(r[a]!==n[a])return!1;return!0}var i=null,o=null,a=/Version\\\\/(\\\\S+)\\\\s+Safari/;if(navigator.userAgent){var c=navigator.userAgent,f=c.match(a);f&&c.indexOf(\"Chrome\")===-1&&c.indexOf(\"Chromium\")===-1&&(i=\"Safari\",o=f[1])}t.exports={agent:i,version:o,match:r}},{}],5:[function(e,t,n){function r(e){function t(){e(a&&document[a]?document[a]:document[i]?\"hidden\":\"visible\")}\"addEventListener\"in document&&o&&document.addEventListener(o,t,!1)}t.exports=r;var i,o,a;\"undefined\"!=typeof document.hidden?(i=\"hidden\",o=\"visibilitychange\",a=\"visibilityState\"):\"undefined\"!=typeof document.msHidden?(i=\"msHidden\",o=\"msvisibilitychange\"):\"undefined\"!=typeof document.webkitHidden&&(i=\"webkitHidden\",o=\"webkitvisibilitychange\",a=\"webkitVisibilityState\")},{}],6:[function(e,t,n){function r(e,t){var n=[],r=\"\",o=0;for(r in e)i.call(e,r)&&(n[o]=t(r,e[r]),o+=1);return n}var i=Object.prototype.hasOwnProperty;t.exports=r},{}],7:[function(e,t,n){function r(e,t,n){t||(t=0),\"undefined\"==typeof n&&(n=e?e.length:0);for(var r=-1,i=n-t||0,o=Array(i<0?0:i);++r<i;)o[r]=e[t+r];return o}t.exports=r},{}],8:[function(e,t,n){t.exports={exists:\"undefined\"!=typeof window.performance&&window.performance.timing&&\"undefined\"!=typeof window.performance.timing.navigationStart}},{}],ee:[function(e,t,n){function r(){}function i(e){function t(e){return e&&e instanceof r?e:e?f(e,c,o):o()}function n(n,r,i,o){if(!p.aborted||o){e&&e(n,r,i);for(var a=t(i),c=v(n),f=c.length,u=0;u<f;u++)c[u].apply(a,r);var d=s[w[n]];return d&&d.push([b,n,r,a]),a}}function l(e,t){h[e]=v(e).concat(t)}function m(e,t){var n=h[e];if(n)for(var r=0;r<n.length;r++)n[r]===t&&n.splice(r,1)}function v(e){return h[e]||[]}function g(e){return d[e]=d[e]||i(n)}function y(e,t){u(e,function(e,n){t=t||\"feature\",w[n]=t,t in s||(s[t]=[])})}var h={},w={},b={on:l,addEventListener:l,removeEventListener:m,emit:n,get:g,listeners:v,context:t,buffer:y,abort:a,aborted:!1};return b}function o(){return new r}function a(){(s.api||s.feature)&&(p.aborted=!0,s=p.backlog={})}var c=\"nr@context\",f=e(\"gos\"),u=e(6),s={},d={},p=t.exports=i();p.backlog=s},{}],gos:[function(e,t,n){function r(e,t,n){if(i.call(e,t))return e[t];var r=n();if(Object.defineProperty&&Object.keys)try{return Object.defineProperty(e,t,{value:r,writable:!0,enumerable:!1}),r}catch(o){}return e[t]=r,r}var i=Object.prototype.hasOwnProperty;t.exports=r},{}],handle:[function(e,t,n){function r(e,t,n,r){i.buffer([e],r),i.emit(e,t,n)}var i=e(\"ee\").get(\"handle\");t.exports=r,r.ee=i},{}],id:[function(e,t,n){function r(e){var t=typeof e;return!e||\"object\"!==t&&\"function\"!==t?-1:e===window?0:a(e,o,function(){return i++})}var i=1,o=\"nr@id\",a=e(\"gos\");t.exports=r},{}],loader:[function(e,t,n){function r(){if(!E++){var e=b.info=NREUM.info,t=p.getElementsByTagName(\"script\")[0];if(setTimeout(u.abort,3e4),!(e&&e.licenseKey&&e.applicationID&&t))return u.abort();f(h,function(t,n){e[t]||(e[t]=n)});var n=a();c(\"mark\",[\"onload\",n+b.offset],null,\"api\"),c(\"timing\",[\"load\",n]);var r=p.createElement(\"script\");r.src=\"https://\"+e.agent,t.parentNode.insertBefore(r,t)}}function i(){\"complete\"===p.readyState&&o()}function o(){c(\"mark\",[\"domContent\",a()+b.offset],null,\"api\")}var a=e(2),c=e(\"handle\"),f=e(6),u=e(\"ee\"),s=e(4),d=window,p=d.document,l=\"addEventListener\",m=\"attachEvent\",v=d.XMLHttpRequest,g=v&&v.prototype;NREUM.o={ST:setTimeout,SI:d.setImmediate,CT:clearTimeout,XHR:v,REQ:d.Request,EV:d.Event,PR:d.Promise,MO:d.MutationObserver};var y=\"\"+location,h={beacon:\"bam.nr-data.net\",errorBeacon:\"bam.nr-data.net\",agent:\"js-agent.newrelic.com/nr-1184.min.js\"},w=v&&g&&g[l]&&!/CriOS/.test(navigator.userAgent),b=t.exports={offset:a.getLastTimestamp(),now:a,origin:y,features:{},xhrWrappable:w,userAgent:s};e(1),e(3),p[l]?(p[l](\"DOMContentLoaded\",o,!1),d[l](\"load\",r,!1)):(p[m](\"onreadystatechange\",i),d[m](\"onload\",r)),c(\"mark\",[\"firstbyte\",a.getLastTimestamp()],null,\"api\");var E=0},{}],\"wrap-function\":[function(e,t,n){function r(e){return!(e&&e instanceof Function&&e.apply&&!e[a])}var i=e(\"ee\"),o=e(7),a=\"nr@original\",c=Object.prototype.hasOwnProperty,f=!1;t.exports=function(e,t){function n(e,t,n,i){function nrWrapper(){var r,a,c,f;try{a=this,r=o(arguments),c=\"function\"==typeof n?n(r,a):n||{}}catch(u){p([u,\"\",[r,a,i],c])}s(t+\"start\",[r,a,i],c);try{return f=e.apply(a,r)}catch(d){throw s(t+\"err\",[r,a,d],c),d}finally{s(t+\"end\",[r,a,f],c)}}return r(e)?e:(t||(t=\"\"),nrWrapper[a]=e,d(e,nrWrapper),nrWrapper)}function u(e,t,i,o){i||(i=\"\");var a,c,f,u=\"-\"===i.charAt(0);for(f=0;f<t.length;f++)c=t[f],a=e[c],r(a)||(e[c]=n(a,u?c+i:i,o,c))}function s(n,r,i){if(!f||t){var o=f;f=!0;try{e.emit(n,r,i,t)}catch(a){p([a,n,r,i])}f=o}}function d(e,t){if(Object.defineProperty&&Object.keys)try{var n=Object.keys(e);return n.forEach(function(n){Object.defineProperty(t,n,{get:function(){return e[n]},set:function(t){return e[n]=t,t}})}),t}catch(r){p([r])}for(var i in e)c.call(e,i)&&(t[i]=e[i]);return t}function p(t){try{e.emit(\"internal-error\",t)}catch(n){}}return e||(e=i),n.inPlace=u,n.flag=a,n}},{}]},{},[\"loader\"]);</script>\\n<link rel=\"styleSheet\" href=\"/shop/data/skin/designgj/normalize.css?ver=1.21.9\">\\n<link rel=\"styleSheet\" href=\"/shop/data/skin/designgj/common.css?ver=1.21.9\">\\n<link rel=\"styleSheet\" href=\"/shop/data/skin/designgj/section1.css?ver=1.21.9\">\\n<script>\\n        var GD_ISMEMBER = !!Number(\\'0\\');\\n    </script>\\n<script type=\"text/javascript\" src=\"/shop/lib/js/jquery-1.10.2.min.js\"></script>\\n<script src=\"/shop/data/skin/designgj/common.js?ver=1.21.9\"></script>\\n<script type=\"text/javascript\" src=\"//wcs.naver.net/wcslog.js\"></script>\\n<script type=\"text/javascript\" src=\"/shop/lib/js/naverCommonInflowScript.js?Path=goods/goods_review_list.php&amp;Referer=&amp;AccountID=s_4f41b5625072&amp;Inflow=\" id=\"naver-common-inflow-script\"></script>\\n<script type=\"text/javascript\">\\n        // 회원전용 & 로그인전\\n        function popup_register(mode,goodsno,sno){\\n            if ( mode == \\'del_review\\' ){\\n                var win = window.open(\"goods_review_del.php?mode=\" + mode + \"&sno=\" + sno,\"review_register\",\"width=400,height=200\");\\n            }else if( mode == \\'mod_review\\'){\\n                parent.location.href = (\\'/shop/goods/goods_review_register.php?mode=\\' + mode + \\'&goodsno=\\' + goodsno + \\'&ordno=\\' + undefined + \\'&sno=\\' + sno);\\n            }else if(mode == \\'reply_review\\'){\\n                parent.location.href = (\\'/shop/goods/goods_review_register.php?mode=\\' + mode + \\'&goodsno=\\'+ goodsno + \\'&sno=\\' + sno);\\n            }else{\\n                parent.location.href = (\"/shop/mypage/mypage_review.php?write_goodsno=\"+ goodsno);\\n            }\\n            win.focus();\\n        }\\n\\n        var preContent;\\n        var IntervarId;\\n\\n        function view_content(obj, e, type)\\n        {\\n            \\n            if(type === \\'notice\\'){\\n                $(\\'.review_view\\').addClass(\\'review_notice\\');    \\n            }else{\\n                $(\\'.review_view\\').removeClass(\\'review_notice\\');\\n\\n                // KM-1483 Amplitude 연동\\n                trackerReview.reviewAction($(obj).find(\\'tr\\'));\\n            }\\n            var tagName = e.srcElement ? e.srcElement.tagName : e.target.tagName;\\n\\n            if ( document.getElementById && ( tagName == \\'A\\' || tagName == \\'IMG\\' ) ) return;\\n            else if ( !document.getElementById && ( tagName == \\'A\\' || tagName == \\'IMG\\' ) ) return;\\n\\n            var div = obj.parentNode;\\n\\n            for (var i=1, m=div.childNodes.length;i<m;i++) {\\n                if (div.childNodes[i].nodeType != 1) continue;\\t// text node.\\n                else if (obj == div.childNodes[ i ]) continue;\\n\\n                obj = div.childNodes[ i ];\\n                break;\\n            }\\n\\n            if($(obj).find(\\'.review_photo\\').html() === \\'\\'){\\n                $.ajax({\\n                    url: \"/shop/goods/ajax_review_img.php\",\\n                    type: \"POST\",\\n                    data: {sno: $(obj).data(\"sno\")},\\n                    dataType: \"html\",\\n                    success: function (result) {\\n                        if(result){\\n                            result += \\'<br>\\';\\n                            $(obj).find(\\'.review_photo\\').append(result);\\n                            resizeFrame();\\n                        }\\n                    }\\n                }).done(function() {resizeFrame();});    \\n            }\\n\\n            if (preContent && obj!=preContent){\\n                obj.style.display = \"block\";\\n                preContent.style.display = \"none\";\\n            }else if (preContent && obj==preContent){\\n                preContent.style.display = ( preContent.style.display == \"none\" ? \"block\" : \"none\" );\\n            }else if (preContent == null ){\\n                obj.style.display = \"block\";\\n            }\\n\\n            if(obj.style.display == \\'block\\'){\\n                var sno = $(obj).data(\\'sno\\');\\n                $(obj).parent().addClass(\\'on\\').siblings().removeClass(\\'on\\');\\n                review_addhit(sno);\\n            }\\n\\n            preContent = obj;\\n\\n            // 2017-12-22 장차석 : 내용이 긴 컨테츠가 닫히면, 페이지 하단에 화면 붙는 이슈 수정\\n            var objPosition =  $(\\'#inreview\\', parent.document).offset().top;\\n            $(\\'html,body\\', parent.document).scrollTop(objPosition);\\n\\n            resizeFrame();\\n        }\\n        \\n        function resizeFrame()\\n        {\\n            //var oBody = document.body;\\n            //var tb_contents = document.getElementById(\"contents-wrapper\");\\n            var i_height = jQuery(\\'#contents-wrapper\\').outerHeight();\\n            //console.log(i_height);\\n            if ( ! i_height) {\\n                i_height = jQuery(\\'body\\').outerHeight();\\n            }\\n            //console.log( i_height );\\n\\n            parent.resizeFrameHeight(\\'inreview\\',i_height);\\n            if ( IntervarId ) clearInterval( IntervarId );\\n        }\\n        jQuery(resizeFrame);\\n\\n       \\n        // KM-1483 Amplitude\\n        var trackerReview = (function(){\\n            /**\\n             * 상품정보를 최초 한번만 호출하여 해당 정보값 가지고 있어야함.\\n             * shop\\\\data\\\\skin_mobileV2\\\\designgj\\\\myp\\\\review.htm 에서 호출\\n             * trackerReview._goodsViewInfo(\\'55222\\');\\n             */\\n            var _goodsViewData = {}\\n\\n            function _goodsViewInfo(no){\\n                $.ajax({\\n                    url: \\'https://api.kurly.com\\' + \\'/v3/home/products/\\' + no\\n                }).done(function(response){\\n                    _goodsViewData = response.data;\\n                }).fail(function(e){\\n                    console.log(\"ERROR on products API calling!!!\", e);\\n                });\\n            }\\n\\n            function reviewAction($target){\\n                var _action_data = {};\\n                _action_data.position = $target.find(\\'[name=index]\\').val();\\n                _action_data.thumbnail_image_url = $target.find(\\'[name=image]\\').val() !== \\'\\' ? true : false;\\n                _action_data.user_grade = $target.find(\\'[name=grade]\\').val();\\n                _action_data.pNo = $target.find(\\'[name=pNo]\\').val();\\n                _action_data.is_best = $target.find(\\'[name=best]\\').val() === \\'true\\' ? true : false;\\n                actionData(_action_data);\\n            }\\n\\n            function actionData(data){\\n                var items, i, len;\\n                items = _goodsViewData;\\n                \\n                data.original_price = items.original_price;\\n                data.price = items.discounted_price;\\n                \\n                if(items.package_products.length > 0){\\n                    len = items.package_products.length;\\n                    for(i = 0;i < len; i++){\\n                        if(data.pNo === items.package_products[i].product_no){\\n                            data.parent_product_no = items.no;\\n                            data.parent_product_name = items.name\\n                            data.product_no = items.package_products[i].no;\\n                            data.product_name = items.package_products[i].name;\\n                        }\\n                    }\\n                }else{\\n                    data.product_no = items.no;\\n                    data.product_name = items.name;\\n                }\\n                sendData(data);\\n            }\\n\\n            function sendData(data){\\n                parent.KurlyTracker.setScreenName(\\'product_review_detail\\');\\n                parent.KurlyTracker.setAction(\\'view_review_detail\\', data).sendData();\\n            }\\n\\n            return {\\n                _goodsViewInfo: _goodsViewInfo,\\n                reviewAction : reviewAction\\n            }\\n        })();\\n        trackerReview._goodsViewInfo(\\'55222\\');\\n    </script>\\n<style>\\n        body *{font-family:\\'Noto Sans\\';font-weight:400;letter-spacing:0}\\n        /* 제목부분 글줄임처리 */\\n        .goods_board .tbl_newtype1\\n        .xans-product-additional table.tbl_newtype1 td{padding:20px 3px 22px;line-height:20px}\\n        .xans-product-additional table.tbl_newtype1 td .snd{display:none}\\n        .xans-product-additional .on table.tbl_newtype1 td .fst{display:none}\\n        .xans-product-additional .on table.tbl_newtype1 td .snd{display:block}\\n        /* 고객후기_제목 */\\n        .goods_board .tbl_newtype1 .subject{padding-left:50px;text-align:left;}\\n        .goods_board .tbl_newtype1 .subject .tit_notice{padding-left:20px;background:url(/shop/data/skin/designgj/images/goods/ico_re.gif) no-repeat 0 3px}\\n        .goods_board .tbl_newtype1 .time{color:#939393}\\n        /* 고객후기_상세 */\\n        .goods_board .name_purchase .name{display:block;font-weight:700;font-size:12px;color:#514859;line-height:18px}\\n        .goods_board .name_purchase .package{padding-top:2px;font-size:14px;color:#000;line-height:20px}\\n        .goods_board .review_photo{padding-top:30px;line-height:16px}\\n        .goods_board .review_view{display:none;padding:10px 10px 11px;border-top:1px solid #e3e3e3;}\\n        .goods_board .review_view .inner_review{width:100%;padding:20px 9px 9px;line-height:25px}\\n        .goods_board .review_notice .name_purchase{display:none}\\n        .goods_board .review_notice .review_photo{display:none}\\n        .goods_board .goods-review-grp-btn .styled-button{height:32px}\\n        /* 고객후기 없을때 */\\n        .goods_board .no_data{padding:30px;text-align:center}\\n        /* 페이징영역 */\\n        .goods_board .board_pg_area{clear:both;text-align:center;padding-bottom:15px}\\n    </style>\\n</head>\\n<body style=\"overflow-y: hidden;\">\\n<div id=\"contents-wrapper\" class=\"goods_board\">\\n<div class=\"xans-element- xans-product xans-product-additional detail_board  \">\\n<div class=\"board\">\\n<span class=\"line\"></span>\\n<form name=\"frmList\">\\n<input type=\"hidden\" name=\"sort\" value=\"\">\\n<input type=\"hidden\" name=\"page_num\" value=\"\">\\n<input type=\"hidden\" name=\"goodsno\" value=\"55222\">\\n<div class=\"title_txt\">\\n<h2>PRODUCT REVIEW</h2>\\n<div class=\"sort-wrap\">\\n<ul class=\"list_type1 old\">\\n<li><span class=\"ico\"></span><p class=\"txt\">상품에 대한 문의를 남기는 공간입니다. 해당 게시판의 성격과 다른 글은 사전동의 없이 담당 게시판으로 이동될 수 있습니다.</p></li>\\n<li><span class=\"ico\"></span><p class=\"txt\">배송관련, 주문(취소/교환/환불)관련 문의 및 요청사항은 마이컬리 내 <a href=\"#none\" onclick=\"window.parent.location.href = \\'/shop/mypage/mypage_qna.php\\'\" class=\"emph\">1:1 문의</a>에 남겨주세요.</p></li>\\n</ul>\\n<div class=\"sort\" style=\"bottom:-9px\">\\n<select onchange=\"this.form.sort.value=this.value;this.form.submit()\">\\n<option value=\"1\">최근등록순</option>\\n<option value=\"2\">좋아요많은순</option>\\n<option value=\"3\">조회많은순</option>\\n</select>\\n</div>\\n</div>\\n</div>\\n<table class=\"xans-board-listheader\" width=\"100%\" border=\"0\" cellpadding=\"0\" cellspacing=\"0\">\\n<caption style=\"display:none\">구매후기 제목</caption>\\n<colgroup>\\n<col style=\"width:70px;\">\\n<col style=\"width:auto;\">\\n<col style=\"width:51px;\">\\n<col style=\"width:77px;\">\\n<col style=\"width:100px;\">\\n<col style=\"width:40px;\">\\n<col style=\"width:80px;\">\\n</colgroup>\\n<tbody><tr>\\n<th scope=\"col\" class=\"input_txt\">번호</th>\\n<th scope=\"col\" class=\"input_txt\">제목</th>\\n<th scope=\"col\" class=\"input_txt\"><span class=\"screen_out\">회원 등급</span></th>\\n<th scope=\"col\" class=\"input_txt\" align=\"left\">작성자</th>\\n<th scope=\"col\" class=\"input_txt\">작성일</th>\\n<th scope=\"col\" class=\"input_txt\">도움</th>\\n<th scope=\"col\" class=\"input_txt\">조회</th>\\n</tr>\\n</tbody></table>\\n<div class=\"tr_line\">\\n<table class=\"xans-board-listheaderd tbl_newtype1\" width=\"100%\" cellpadding=\"0\" cellspacing=\"0\" onclick=\"view_content(this,event,\\'notice\\')\">\\n<caption style=\"display:none\">구매후기 내용</caption>\\n<colgroup>\\n<col style=\"width:70px;\">\\n<col style=\"width:auto;\">\\n<col style=\"width:51px;\">\\n<col style=\"width:77px;\">\\n<col style=\"width:100px;\">\\n<col style=\"width:40px;\">\\n<col style=\"width:80px;\">\\n</colgroup>\\n<tbody><tr>\\n\\n<input type=\"hidden\" name=\"index\" value=\"-1\">\\n<input type=\"hidden\" name=\"image\" value=\"\">\\n<input type=\"hidden\" name=\"grade\" value=\"0\">\\n<input type=\"hidden\" name=\"best\" value=\"false\">\\n<input type=\"hidden\" name=\"pNo\" value=\"\">\\n\\n<td align=\"center\">공지</td>\\n<td class=\"subject\">\\n<div>금주의 Best 후기 안내</div>\\n</td>\\n<td class=\"user_grade grade_comm\">\\n</td>\\n<td class=\"user_grade\">\\nMarketkurly </td>\\n<td class=\"time\">2019-11-01</td>\\n<td>\\n<span class=\"review-like-cnt\" data-sno=\"6412655\">0</span>\\n</td>\\n<td>\\n<span class=\"review-hit-cnt\" data-sno=\"6412655\">194841</span>\\n</td>\\n</tr>\\n</tbody></table>\\n<div data-sno=\"6412655\" class=\"review_view\">\\n<div class=\"inner_review\">\\n<div class=\"name_purchase\">\\n<strong class=\"name\"></strong>\\n<p class=\"package\"></p>\\n</div>\\n<div class=\"review_photo\"></div>\\n<p class=\"MsoNormal\">고객님 안녕하세요, 마켓컬리입니다.</p><p class=\"MsoNormal\"><br></p><p class=\"MsoNormal\">■ Best 후기 당첨자 안내</p><p class=\"MsoNormal\"><br></p><p class=\"MsoNormal\">[2020년 10월 05일 ~ 2020년 10월 11일]의 Best 후기 당첨자 공지드립니다.</p><p class=\"MsoNormal\"><br></p><p class=\"MsoNormal\">정성껏 후기를 작성해주신 모든 고객님께 감사드립니다.<br></p><p class=\"MsoNormal\">Best 후기는 아래 게시판을 통해 확인 가능합니다.</p><p class=\"MsoNormal\"><br></p><p class=\"MsoNormal\"><a href=\"http://www.kurly.com/shop/goods/goods_review_best.php\">http://www.kurly.com/shop/goods/goods_review_best.php</a><br></p><p class=\"MsoNormal\"><br>마켓컬리는 상품에 대한 고객 여러분의 생생한 의견을 듣고 더 나은 상품을 준비하기 위해 상품 후기 게시판을 운영하고 있습니다<span lang=\"EN-US\">.&nbsp;</span><br></p><p class=\"MsoNormal\">실제로 상품의 후기가 구매 결정에 있어 큰 도움이 된 best 후기를 아래로 공유드립니다.</p><p class=\"MsoNormal\"><br></p><p class=\"MsoNormal\"><img src=\"data:image/png;base64,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\" alt=\"\"></p><br><p class=\"MsoNormal\"><span lang=\"EN-US\">감사합니다<span lang=\"EN-US\">.</span>&nbsp;<br>마켓컬리 드림</span></p><p class=\"MsoListParagraph\" style=\"margin-left: 38pt;\"></p>\\n</div>\\n<div class=\"goods-review-grp-btn\">\\n</div>\\n</div>\\n</div>\\n<div class=\"tr_line\">\\n<table class=\"xans-board-listheaderd tbl_newtype1\" width=\"100%\" cellpadding=\"0\" cellspacing=\"0\" onclick=\"view_content(this,event,\\'notice\\')\">\\n<caption style=\"display:none\">구매후기 내용</caption>\\n<colgroup>\\n<col style=\"width:70px;\">\\n<col style=\"width:auto;\">\\n<col style=\"width:51px;\">\\n<col style=\"width:77px;\">\\n<col style=\"width:100px;\">\\n<col style=\"width:40px;\">\\n<col style=\"width:80px;\">\\n</colgroup>\\n<tbody><tr>\\n\\n<input type=\"hidden\" name=\"index\" value=\"0\">\\n<input type=\"hidden\" name=\"image\" value=\"\">\\n<input type=\"hidden\" name=\"grade\" value=\"0\">\\n<input type=\"hidden\" name=\"best\" value=\"false\">\\n<input type=\"hidden\" name=\"pNo\" value=\"\">\\n\\n<td align=\"center\">공지</td>\\n<td class=\"subject\">\\n<div>상품 후기 적립금 정책 안내</div>\\n</td>\\n<td class=\"user_grade grade_comm\">\\n</td>\\n<td class=\"user_grade\">\\nMarketkurly </td>\\n<td class=\"time\">2019-11-01</td>\\n<td>\\n<span class=\"review-like-cnt\" data-sno=\"6412546\">0</span>\\n</td>\\n<td>\\n<span class=\"review-hit-cnt\" data-sno=\"6412546\">108578</span>\\n</td>\\n</tr>\\n</tbody></table>\\n<div data-sno=\"6412546\" class=\"review_view\">\\n<div class=\"inner_review\">\\n<div class=\"name_purchase\">\\n<strong class=\"name\"></strong>\\n<p class=\"package\"></p>\\n</div>\\n<div class=\"review_photo\"></div>\\n<span style=\"color: rgb(72, 72, 72); font-family: tahoma; font-size: 12px; background-color: rgb(255, 255, 255);\">[ 금주의 Best 후기 및 상품 후기 적립금 정책 변경 안내 ]</span><br style=\"color: rgb(72, 72, 72); font-family: tahoma; font-size: 12px; background-color: rgb(255, 255, 255);\"><br style=\"color: rgb(72, 72, 72); font-family: tahoma; font-size: 12px; background-color: rgb(255, 255, 255);\"><span style=\"color: rgb(72, 72, 72); font-family: tahoma; font-size: 12px; background-color: rgb(255, 255, 255);\">고객님 안녕하세요. 마켓컬리 입니다.</span><br style=\"color: rgb(72, 72, 72); font-family: tahoma; font-size: 12px; background-color: rgb(255, 255, 255);\"><span style=\"color: rgb(72, 72, 72); font-family: tahoma; font-size: 12px; background-color: rgb(255, 255, 255);\">적립금 지급 정책을 안내드리니 컬리 이용에 참고 부탁드립니다.</span><br style=\"color: rgb(72, 72, 72); font-family: tahoma; font-size: 12px; background-color: rgb(255, 255, 255);\"><br style=\"color: rgb(72, 72, 72); font-family: tahoma; font-size: 12px; background-color: rgb(255, 255, 255);\"><br style=\"color: rgb(72, 72, 72); font-family: tahoma; font-size: 12px; background-color: rgb(255, 255, 255);\"><span style=\"color: rgb(72, 72, 72); font-family: tahoma; font-size: 12px; background-color: rgb(255, 255, 255);\">■ 적립금 지급 정책</span><br style=\"color: rgb(72, 72, 72); font-family: tahoma; font-size: 12px; background-color: rgb(255, 255, 255);\"><br style=\"color: rgb(72, 72, 72); font-family: tahoma; font-size: 12px; background-color: rgb(255, 255, 255);\"><span style=\"color: rgb(72, 72, 72); font-family: tahoma; font-size: 12px; background-color: rgb(255, 255, 255);\">1. 일반 후기- 기존과 같이 작성 후 1~3일 내에 기본 적립금이 지급됩니다.</span><br style=\"color: rgb(72, 72, 72); font-family: tahoma; font-size: 12px; background-color: rgb(255, 255, 255);\"><span style=\"color: rgb(72, 72, 72); font-family: tahoma; font-size: 12px; background-color: rgb(255, 255, 255);\">-글 후기 50원/건</span><br style=\"color: rgb(72, 72, 72); font-family: tahoma; font-size: 12px; background-color: rgb(255, 255, 255);\"><span style=\"color: rgb(72, 72, 72); font-family: tahoma; font-size: 12px; background-color: rgb(255, 255, 255);\">-사진 후기 100원/건</span><br style=\"color: rgb(72, 72, 72); font-family: tahoma; font-size: 12px; background-color: rgb(255, 255, 255);\"><span style=\"color: rgb(72, 72, 72); font-family: tahoma; font-size: 12px; background-color: rgb(255, 255, 255);\">*퍼플/더퍼플 러버스 고객님께는 더블 후기 적립금이 지급됩니다.</span><br style=\"color: rgb(72, 72, 72); font-family: tahoma; font-size: 12px; background-color: rgb(255, 255, 255);\"><br style=\"color: rgb(72, 72, 72); font-family: tahoma; font-size: 12px; background-color: rgb(255, 255, 255);\"><span style=\"color: rgb(72, 72, 72); font-family: tahoma; font-size: 12px; background-color: rgb(255, 255, 255);\">2. Best 후기 - Best 후기 적립금은 일주일 단위로 선정 및 지급됩니다.</span><br style=\"color: rgb(72, 72, 72); font-family: tahoma; font-size: 12px; background-color: rgb(255, 255, 255);\"><span style=\"color: rgb(72, 72, 72); font-family: tahoma; font-size: 12px; background-color: rgb(255, 255, 255);\">1) 선정 건 수 - 일주일 최대 30건</span><br style=\"color: rgb(72, 72, 72); font-family: tahoma; font-size: 12px; background-color: rgb(255, 255, 255);\"><span style=\"color: rgb(72, 72, 72); font-family: tahoma; font-size: 12px; background-color: rgb(255, 255, 255);\">2) 지급 일시 - 매주 수요일( 지급일이 공휴일의 경우 전 영업일)</span><br style=\"color: rgb(72, 72, 72); font-family: tahoma; font-size: 12px; background-color: rgb(255, 255, 255);\"><span style=\"color: rgb(72, 72, 72); font-family: tahoma; font-size: 12px; background-color: rgb(255, 255, 255);\">3) 당첨 ID 및 그 주의 Best 후기는 후기 게시판 내 공지사항으로 등록됩니다.</span><br style=\"color: rgb(72, 72, 72); font-family: tahoma; font-size: 12px; background-color: rgb(255, 255, 255);\"><br style=\"color: rgb(72, 72, 72); font-family: tahoma; font-size: 12px; background-color: rgb(255, 255, 255);\"><span style=\"color: rgb(72, 72, 72); font-family: tahoma; font-size: 12px; background-color: rgb(255, 255, 255);\">3. 상품 후기 게시판(Product review) 적립금 지급 유의 사항</span><br style=\"color: rgb(72, 72, 72); font-family: tahoma; font-size: 12px; background-color: rgb(255, 255, 255);\"><span style=\"color: rgb(72, 72, 72); font-family: tahoma; font-size: 12px; background-color: rgb(255, 255, 255);\">1) 실제 구매한 상품의 후기가 아닌 경우 Best 후기 당첨 시 제외 됩니다.</span><br style=\"color: rgb(72, 72, 72); font-family: tahoma; font-size: 12px; background-color: rgb(255, 255, 255);\"><span style=\"color: rgb(72, 72, 72); font-family: tahoma; font-size: 12px; background-color: rgb(255, 255, 255);\">2) 구매 상품 외의 사진이 첨부된 경우 후기 적립금 정책으로 제공한 적립금이 취소 될 수 있습니다.</span>\\n</div>\\n<div class=\"goods-review-grp-btn\">\\n</div>\\n</div>\\n</div>\\n<div class=\"tr_line\">\\n<table class=\"xans-board-listheaderd tbl_newtype1\" width=\"100%\" cellpadding=\"0\" cellspacing=\"0\" onclick=\"view_content(this,event,false)\">\\n<caption style=\"display:none\">구매후기 내용</caption>\\n<colgroup>\\n<col style=\"width:70px;\">\\n<col style=\"width:auto;\">\\n<col style=\"width:51px;\">\\n<col style=\"width:77px;\">\\n<col style=\"width:100px;\">\\n<col style=\"width:40px;\">\\n<col style=\"width:80px;\">\\n</colgroup>\\n<tbody><tr>\\n\\n<input type=\"hidden\" name=\"index\" value=\"1\">\\n<input type=\"hidden\" name=\"image\" value=\"\">\\n<input type=\"hidden\" name=\"grade\" value=\"3\">\\n<input type=\"hidden\" name=\"best\" value=\"false\">\\n<input type=\"hidden\" name=\"pNo\" value=\"\">\\n\\n<td align=\"center\">121</td>\\n<td class=\"subject\">\\n<div class=\"fst\">만족합니다. </div>\\n<div class=\"snd\">만족합니다. </div>\\n</td>\\n<td class=\"user_grade grade_comm\">\\n<span class=\"ico_grade grade3\">\\n퍼플 </span>\\n</td>\\n<td class=\"user_grade\">\\n권*영 </td>\\n<td class=\"time\">2020-10-17</td>\\n<td>\\n<span class=\"review-like-cnt\" data-sno=\"17956012\">0</span>\\n</td>\\n<td>\\n<span class=\"review-hit-cnt\" data-sno=\"17956012\">2</span>\\n</td>\\n</tr>\\n</tbody></table>\\n<div data-sno=\"17956012\" class=\"review_view\">\\n<div class=\"inner_review\">\\n<div class=\"name_purchase\">\\n<strong class=\"name\">[퀘스크렘] 블루치즈 크림치즈</strong>\\n<p class=\"package\"></p>\\n</div>\\n<div class=\"review_photo\"></div>\\n잘 숙성된 치즈의 향입니다.\\n</div>\\n<div class=\"goods-review-grp-btn\">\\n<button type=\"button\" class=\"styled-button review-like-btn\" data-sno=\"17956012\" onclick=\"review_like(\\'17956012\\',$(this));\">도움이 돼요 <span class=\"num\">0</span></button>\\n</div>\\n</div>\\n</div>\\n<div class=\"tr_line\">\\n<table class=\"xans-board-listheaderd tbl_newtype1\" width=\"100%\" cellpadding=\"0\" cellspacing=\"0\" onclick=\"view_content(this,event,false)\">\\n<caption style=\"display:none\">구매후기 내용</caption>\\n<colgroup>\\n<col style=\"width:70px;\">\\n<col style=\"width:auto;\">\\n<col style=\"width:51px;\">\\n<col style=\"width:77px;\">\\n<col style=\"width:100px;\">\\n<col style=\"width:40px;\">\\n<col style=\"width:80px;\">\\n</colgroup>\\n<tbody><tr>\\n\\n<input type=\"hidden\" name=\"index\" value=\"2\">\\n<input type=\"hidden\" name=\"image\" value=\"\">\\n<input type=\"hidden\" name=\"grade\" value=\"5\">\\n<input type=\"hidden\" name=\"best\" value=\"false\">\\n<input type=\"hidden\" name=\"pNo\" value=\"\">\\n\\n<td align=\"center\">120</td>\\n<td class=\"subject\">\\n<div class=\"fst\">무난 </div>\\n<div class=\"snd\">무난 </div>\\n</td>\\n<td class=\"user_grade grade_comm\">\\n<span class=\"ico_grade grade5\">\\n프렌즈 </span>\\n</td>\\n<td class=\"user_grade\">\\n홍*화 </td>\\n<td class=\"time\">2020-10-15</td>\\n<td>\\n<span class=\"review-like-cnt\" data-sno=\"17903152\">0</span>\\n</td>\\n<td>\\n<span class=\"review-hit-cnt\" data-sno=\"17903152\">6</span>\\n</td>\\n</tr>\\n</tbody></table>\\n<div data-sno=\"17903152\" class=\"review_view\">\\n<div class=\"inner_review\">\\n<div class=\"name_purchase\">\\n<strong class=\"name\">[퀘스크렘] 블루치즈 크림치즈</strong>\\n<p class=\"package\"></p>\\n</div>\\n<div class=\"review_photo\"></div>\\n블루치즈 잘 못먹는 분들도 드실 수 있을 것 같아요\\n</div>\\n<div class=\"goods-review-grp-btn\">\\n<button type=\"button\" class=\"styled-button review-like-btn\" data-sno=\"17903152\" onclick=\"review_like(\\'17903152\\',$(this));\">도움이 돼요 <span class=\"num\">0</span></button>\\n</div>\\n</div>\\n</div>\\n<div class=\"tr_line\">\\n<table class=\"xans-board-listheaderd tbl_newtype1\" width=\"100%\" cellpadding=\"0\" cellspacing=\"0\" onclick=\"view_content(this,event,false)\">\\n<caption style=\"display:none\">구매후기 내용</caption>\\n<colgroup>\\n<col style=\"width:70px;\">\\n<col style=\"width:auto;\">\\n<col style=\"width:51px;\">\\n<col style=\"width:77px;\">\\n<col style=\"width:100px;\">\\n<col style=\"width:40px;\">\\n<col style=\"width:80px;\">\\n</colgroup>\\n<tbody><tr>\\n\\n<input type=\"hidden\" name=\"index\" value=\"3\">\\n<input type=\"hidden\" name=\"image\" value=\"\">\\n<input type=\"hidden\" name=\"grade\" value=\"0\">\\n<input type=\"hidden\" name=\"best\" value=\"false\">\\n<input type=\"hidden\" name=\"pNo\" value=\"\">\\n\\n<td align=\"center\">119</td>\\n<td class=\"subject\">\\n<div class=\"fst\">짱짱 </div>\\n<div class=\"snd\">짱짱 </div>\\n</td>\\n<td class=\"user_grade grade_comm\">\\n</td>\\n<td class=\"user_grade\">\\n구*정 </td>\\n<td class=\"time\">2020-10-15</td>\\n<td>\\n<span class=\"review-like-cnt\" data-sno=\"17892798\">0</span>\\n</td>\\n<td>\\n<span class=\"review-hit-cnt\" data-sno=\"17892798\">5</span>\\n</td>\\n</tr>\\n</tbody></table>\\n<div data-sno=\"17892798\" class=\"review_view\">\\n<div class=\"inner_review\">\\n<div class=\"name_purchase\">\\n<strong class=\"name\">[퀘스크렘] 블루치즈 크림치즈</strong>\\n<p class=\"package\"></p>\\n</div>\\n<div class=\"review_photo\"></div>\\n재구매 의사 백프로입니다. 달지않고 짜지도 않은 데일리로 즐기기 좋은 깊이감있는 맛의 크림치즈입니다!\\n</div>\\n<div class=\"goods-review-grp-btn\">\\n<button type=\"button\" class=\"styled-button review-like-btn\" data-sno=\"17892798\" onclick=\"review_like(\\'17892798\\',$(this));\">도움이 돼요 <span class=\"num\">0</span></button>\\n</div>\\n</div>\\n</div>\\n<div class=\"tr_line\">\\n<table class=\"xans-board-listheaderd tbl_newtype1\" width=\"100%\" cellpadding=\"0\" cellspacing=\"0\" onclick=\"view_content(this,event,false)\">\\n<caption style=\"display:none\">구매후기 내용</caption>\\n<colgroup>\\n<col style=\"width:70px;\">\\n<col style=\"width:auto;\">\\n<col style=\"width:51px;\">\\n<col style=\"width:77px;\">\\n<col style=\"width:100px;\">\\n<col style=\"width:40px;\">\\n<col style=\"width:80px;\">\\n</colgroup>\\n<tbody><tr>\\n\\n <input type=\"hidden\" name=\"index\" value=\"4\">\\n<input type=\"hidden\" name=\"image\" value=\"true\">\\n<input type=\"hidden\" name=\"grade\" value=\"0\">\\n<input type=\"hidden\" name=\"best\" value=\"false\">\\n<input type=\"hidden\" name=\"pNo\" value=\"\">\\n\\n<td align=\"center\">118</td>\\n<td class=\"subject\">\\n<div class=\"fst\">베이글에 <img src=\"https://res.kurly.com/pc/ico/1910/ico_attach2.gif\" alt=\"이미지가 첨부됨\"></div>\\n<div class=\"snd\">베이글에 <img src=\"https://res.kurly.com/pc/ico/1910/ico_attach2.gif\" alt=\"이미지가 첨부됨\"></div>\\n</td>\\n<td class=\"user_grade grade_comm\">\\n</td>\\n<td class=\"user_grade\">\\n김*현 </td>\\n<td class=\"time\">2020-10-15</td>\\n<td>\\n<span class=\"review-like-cnt\" data-sno=\"17874519\">0</span>\\n</td>\\n<td>\\n<span class=\"review-hit-cnt\" data-sno=\"17874519\">16</span>\\n</td>\\n</tr>\\n</tbody></table>\\n<div data-sno=\"17874519\" class=\"review_view\">\\n<div class=\"inner_review\">\\n<div class=\"name_purchase\">\\n<strong class=\"name\">[퀘스크렘] 블루치즈 크림치즈</strong>\\n<p class=\"package\"></p>\\n</div>\\n<div class=\"review_photo\"></div>\\n발라 먹어보려구요 ㅎㅎ\\n</div>\\n<div class=\"goods-review-grp-btn\">\\n<button type=\"button\" class=\"styled-button review-like-btn\" data-sno=\"17874519\" onclick=\"review_like(\\'17874519\\',$(this));\">도움이 돼요 <span class=\"num\">0</span></button>\\n</div>\\n</div>\\n</div>\\n<div class=\"tr_line\">\\n<table class=\"xans-board-listheaderd tbl_newtype1\" width=\"100%\" cellpadding=\"0\" cellspacing=\"0\" onclick=\"view_content(this,event,false)\">\\n<caption style=\"display:none\">구매후기 내용</caption>\\n<colgroup>\\n<col style=\"width:70px;\">\\n<col style=\"width:auto;\">\\n<col style=\"width:51px;\">\\n<col style=\"width:77px;\">\\n<col style=\"width:100px;\">\\n<col style=\"width:40px;\">\\n<col style=\"width:80px;\">\\n</colgroup>\\n<tbody><tr>\\n\\n<input type=\"hidden\" name=\"index\" value=\"5\">\\n<input type=\"hidden\" name=\"image\" value=\"\">\\n<input type=\"hidden\" name=\"grade\" value=\"1\">\\n<input type=\"hidden\" name=\"best\" value=\"false\">\\n<input type=\"hidden\" name=\"pNo\" value=\"\">\\n\\n<td align=\"center\">117</td>\\n<td class=\"subject\">\\n<div class=\"fst\">굿 </div>\\n<div class=\"snd\">굿 </div>\\n</td>\\n<td class=\"user_grade grade_comm\">\\n<span class=\"ico_grade grade1\">\\n화이트 </span>\\n</td>\\n<td class=\"user_grade\">\\n전*기 </td>\\n<td class=\"time\">2020-10-15</td>\\n<td>\\n<span class=\"review-like-cnt\" data-sno=\"17868133\">0</span>\\n</td>\\n<td>\\n<span class=\"review-hit-cnt\" data-sno=\"17868133\">6</span>\\n</td>\\n</tr>\\n</tbody></table>\\n<div data-sno=\"17868133\" class=\"review_view\">\\n<div class=\"inner_review\">\\n<div class=\"name_purchase\">\\n<strong class=\"name\">[퀘스크렘] 블루치즈 크림치즈</strong>\\n<p class=\"package\"></p>\\n</div>\\n<div class=\"review_photo\"></div>\\n생각보다 안큠쿰해요^^\\n</div>\\n<div class=\"goods-review-grp-btn\">\\n<button type=\"button\" class=\"styled-button review-like-btn\" data-sno=\"17868133\" onclick=\"review_like(\\'17868133\\',$(this));\">도움이 돼요 <span class=\"num\">0</span></button>\\n</div>\\n</div>\\n</div>\\n</form>\\n<p class=\"btnArea after\">\\n<a href=\"#none\" onclick=\"popup_register( \\'add_review\\', \\'55222\\' )\"><span class=\"bhs_button\" style=\"line-height:30px; width:130px;\">후기쓰기</span></a>\\n</p>\\n</div>\\n</div>\\n<div class=\"board_pg_area\"><a href=\"/shop/goods/goods_review_list.php?goodsno=55222&amp;page=1\" class=\"layout-pagination-button layout-pagination-first-page\">맨 처음 페이지로 가기</a><a href=\"/shop/goods/goods_review_list.php?goodsno=55222&amp;page=1\" class=\"layout-pagination-button layout-pagination-prev-page\">이전 페이지로 가기</a><strong class=\"layout-pagination-button layout-pagination-number __active\">1</strong><a href=\"/shop/goods/goods_review_list.php?goodsno=55222&amp;page=2\" class=\"layout-pagination-button layout-pagination-number\">2</a><a href=\"/shop/goods/goods_review_list.php?goodsno=55222&amp;page=3\" class=\"layout-pagination-button layout-pagination-number\">3</a><a href=\"/shop/goods/goods_review_list.php?goodsno=55222&amp;page=4\" class=\"layout-pagination-button layout-pagination-number\">4</a><a href=\"/shop/goods/goods_review_list.php?goodsno=55222&amp;page=5\" class=\"layout-pagination-button layout-pagination-number\">5</a><a href=\"/shop/goods/goods_review_list.php?goodsno=55222&amp;page=6\" class=\"layout-pagination-button layout-pagination-number\">6</a><a href=\"/shop/goods/goods_review_list.php?goodsno=55222&amp;page=7\" class=\"layout-pagination-button layout-pagination-number\">7</a><a href=\"/shop/goods/goods_review_list.php?goodsno=55222&amp;page=8\" class=\"layout-pagination-button layout-pagination-number\">8</a><a href=\"/shop/goods/goods_review_list.php?goodsno=55222&amp;page=9\" class=\"layout-pagination-button layout-pagination-number\">9</a><a href=\"/shop/goods/goods_review_list.php?goodsno=55222&amp;page=10\" class=\"layout-pagination-button layout-pagination-number\">10</a><a href=\"/shop/goods/goods_review_list.php?goodsno=55222&amp;page=2\" class=\"layout-pagination-button layout-pagination-next-page\">다음 페이지로 가기</a><a href=\"/shop/goods/goods_review_list.php?goodsno=55222&amp;page=18\" class=\"layout-pagination-button layout-pagination-last-page\">맨 끝 페이지로 가기</a></div>\\n</div>\\n<script type=\"text/javascript\">window.NREUM||(NREUM={});NREUM.info={\"beacon\":\"bam.nr-data.net\",\"licenseKey\":\"NRJS-5dec146893a58b07e31\",\"applicationID\":\"602251426\",\"transactionName\":\"MlZUZhdUXkoCAkBQDQscY0AMGkNRDBEbXg0KV0UdAlpfXRA+RlwUDFZBbQlcQ01NEVxJ\",\"queueTime\":0,\"applicationTime\":92,\"atts\":\"HhFXEF9OTUQ=\",\"errorBeacon\":\"bam.nr-data.net\",\"agent\":\"\"}</script>\\n</body></html>'"
      ]
     },
     "execution_count": 89,
     "metadata": {},
     "output_type": "execute_result"
    }
   ],
   "source": [
    "from selenium import webdriver\n",
    "from selenium.webdriver.common.keys import Keys\n",
    "from selenium.webdriver.chrome.options import Options\n",
    "from time import sleep\n",
    "\n",
    "# create a new chrome session\n",
    "# Chrome(chrome_options=options, ..로 하면\n",
    "# chrome_options를 options로 바꾸라는 오류 표시됨\n",
    "# DeprecationWarning: use options instead of chrome_options\n",
    "\n",
    "options = Options()\n",
    "\n",
    "driver = webdriver.Chrome(options=options, executable_path=\"/home/bitai/proj_my/test_Wandoo_2/crawling_driver/chromedriver_linux64/chromedriver\")\n",
    "driver.maximize_window()\n",
    "\n",
    "\n",
    "# Navigate to the application home page\n",
    "# ./goods_review_list.php?goodsno=55222\n",
    "\n",
    "# URL = 'https://www.kurly.com/shop/goods/goods_view.php?&goodsno=55222'\n",
    "URL = 'https://www.kurly.com/shop/goods/goods_review_list.php?goodsno=55222'\n",
    "\n",
    "# URL = 'http://deal.11st.co.kr/html/nc/deal/main.html'\n",
    "\n",
    "driver.get(URL)\n",
    "\n",
    "# 1.25초간 sleep\n",
    "sleep(1.25)\n",
    "\n",
    "page = driver.page_source\n",
    "page"
   ]
  },
  {
   "cell_type": "code",
   "execution_count": 39,
   "metadata": {},
   "outputs": [
    {
     "data": {
      "text/plain": [
       "[<div class=\"fst\">만족합니다. </div>,\n",
       " <div class=\"fst\">무난 </div>,\n",
       " <div class=\"fst\">짱짱 </div>,\n",
       " <div class=\"fst\">베이글에 <img alt=\"이미지가 첨부됨\" src=\"https://res.kurly.com/pc/ico/1910/ico_attach2.gif\"/></div>,\n",
       " <div class=\"fst\">굿 </div>]"
      ]
     },
     "execution_count": 39,
     "metadata": {},
     "output_type": "execute_result"
    }
   ],
   "source": [
    "# 치즈 구매후기 제목 추출 - step1\n",
    "\n",
    "from bs4 import BeautifulSoup\n",
    "\n",
    "# html = driver.page_source\n",
    "\n",
    "soup = BeautifulSoup(page,'lxml')\n",
    "\n",
    "all_review_title = soup.find_all('div', 'fst')\n",
    "\n",
    "\n",
    "review_title = soup.find_all('div', 'fst')\n",
    "\n",
    "sleep(1.53)\n",
    "\n",
    "\n",
    "#total = len(all_review_title)\n",
    "# print(total)\n",
    "review_title\n",
    "\n",
    "# type(title) # type: list\n",
    "#title\n"
   ]
  },
  {
   "cell_type": "code",
   "execution_count": 38,
   "metadata": {},
   "outputs": [
    {
     "data": {
      "text/plain": [
       "['만족합니다. ', '무난 ', '짱짱 ', None, '굿 ']"
      ]
     },
     "execution_count": 38,
     "metadata": {},
     "output_type": "execute_result"
    }
   ],
   "source": [
    "# 치즈 구매후기 제목 추출 - step2\n",
    "\n",
    "from bs4 import BeautifulSoup\n",
    "\n",
    "# html = driver.page_source\n",
    "\n",
    "soup = BeautifulSoup(page,'lxml')\n",
    "\n",
    "all_review_title = soup.find_all('div', 'fst')\n",
    "\n",
    "\n",
    "review_title = [soup.find_all('div', 'fst')\n",
    "         [n].string for n in range(0, len(all_review_title))]\n",
    "\n",
    "\n",
    "sleep(1.53)\n",
    "\n",
    "\n",
    "#total = len(all_review_title)\n",
    "# print(total)\n",
    "review_title\n",
    "\n",
    "# type(title) # type: list\n",
    "#title\n"
   ]
  },
  {
   "cell_type": "code",
   "execution_count": 134,
   "metadata": {},
   "outputs": [
    {
     "data": {
      "text/plain": [
       "[<div class=\"inner_review\">\n",
       " <div class=\"name_purchase\">\n",
       " <strong class=\"name\"></strong>\n",
       " <p class=\"package\"></p>\n",
       " </div>\n",
       " <div class=\"review_photo\"></div>\n",
       " <p class=\"MsoNormal\">고객님 안녕하세요, 마켓컬리입니다.</p><p class=\"MsoNormal\"><br/></p><p class=\"MsoNormal\">■ Best 후기 당첨자 안내</p><p class=\"MsoNormal\"><br/></p><p class=\"MsoNormal\">[2020년 10월 05일 ~ 2020년 10월 11일]의 Best 후기 당첨자 공지드립니다.</p><p class=\"MsoNormal\"><br/></p><p class=\"MsoNormal\">정성껏 후기를 작성해주신 모든 고객님께 감사드립니다.<br/></p><p class=\"MsoNormal\">Best 후기는 아래 게시판을 통해 확인 가능합니다.</p><p class=\"MsoNormal\"><br/></p><p class=\"MsoNormal\"><a href=\"http://www.kurly.com/shop/goods/goods_review_best.php\">http://www.kurly.com/shop/goods/goods_review_best.php</a><br/></p><p class=\"MsoNormal\"><br/>마켓컬리는 상품에 대한 고객 여러분의 생생한 의견을 듣고 더 나은 상품을 준비하기 위해 상품 후기 게시판을 운영하고 있습니다<span lang=\"EN-US\">. </span><br/></p><p class=\"MsoNormal\">실제로 상품의 후기가 구매 결정에 있어 큰 도움이 된 best 후기를 아래로 공유드립니다.</p><p class=\"MsoNormal\"><br/></p><p class=\"MsoNormal\"><img alt=\"\" src=\"data:image/png;base64,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\"/></p><br/><p class=\"MsoNormal\"><span lang=\"EN-US\">감사합니다<span lang=\"EN-US\">.</span> <br/>마켓컬리 드림</span></p><p class=\"MsoListParagraph\" style=\"margin-left: 38pt;\"></p>\n",
       " </div>,\n",
       " <div class=\"inner_review\">\n",
       " <div class=\"name_purchase\">\n",
       " <strong class=\"name\"></strong>\n",
       " <p class=\"package\"></p>\n",
       " </div>\n",
       " <div class=\"review_photo\"></div>\n",
       " <span style=\"color: rgb(72, 72, 72); font-family: tahoma; font-size: 12px; background-color: rgb(255, 255, 255);\">[ 금주의 Best 후기 및 상품 후기 적립금 정책 변경 안내 ]</span><br style=\"color: rgb(72, 72, 72); font-family: tahoma; font-size: 12px; background-color: rgb(255, 255, 255);\"/><br style=\"color: rgb(72, 72, 72); font-family: tahoma; font-size: 12px; background-color: rgb(255, 255, 255);\"/><span style=\"color: rgb(72, 72, 72); font-family: tahoma; font-size: 12px; background-color: rgb(255, 255, 255);\">고객님 안녕하세요. 마켓컬리 입니다.</span><br style=\"color: rgb(72, 72, 72); font-family: tahoma; font-size: 12px; background-color: rgb(255, 255, 255);\"/><span style=\"color: rgb(72, 72, 72); font-family: tahoma; font-size: 12px; background-color: rgb(255, 255, 255);\">적립금 지급 정책을 안내드리니 컬리 이용에 참고 부탁드립니다.</span><br style=\"color: rgb(72, 72, 72); font-family: tahoma; font-size: 12px; background-color: rgb(255, 255, 255);\"/><br style=\"color: rgb(72, 72, 72); font-family: tahoma; font-size: 12px; background-color: rgb(255, 255, 255);\"/><br style=\"color: rgb(72, 72, 72); font-family: tahoma; font-size: 12px; background-color: rgb(255, 255, 255);\"/><span style=\"color: rgb(72, 72, 72); font-family: tahoma; font-size: 12px; background-color: rgb(255, 255, 255);\">■ 적립금 지급 정책</span><br style=\"color: rgb(72, 72, 72); font-family: tahoma; font-size: 12px; background-color: rgb(255, 255, 255);\"/><br style=\"color: rgb(72, 72, 72); font-family: tahoma; font-size: 12px; background-color: rgb(255, 255, 255);\"/><span style=\"color: rgb(72, 72, 72); font-family: tahoma; font-size: 12px; background-color: rgb(255, 255, 255);\">1. 일반 후기- 기존과 같이 작성 후 1~3일 내에 기본 적립금이 지급됩니다.</span><br style=\"color: rgb(72, 72, 72); font-family: tahoma; font-size: 12px; background-color: rgb(255, 255, 255);\"/><span style=\"color: rgb(72, 72, 72); font-family: tahoma; font-size: 12px; background-color: rgb(255, 255, 255);\">-글 후기 50원/건</span><br style=\"color: rgb(72, 72, 72); font-family: tahoma; font-size: 12px; background-color: rgb(255, 255, 255);\"/><span style=\"color: rgb(72, 72, 72); font-family: tahoma; font-size: 12px; background-color: rgb(255, 255, 255);\">-사진 후기 100원/건</span><br style=\"color: rgb(72, 72, 72); font-family: tahoma; font-size: 12px; background-color: rgb(255, 255, 255);\"/><span style=\"color: rgb(72, 72, 72); font-family: tahoma; font-size: 12px; background-color: rgb(255, 255, 255);\">*퍼플/더퍼플 러버스 고객님께는 더블 후기 적립금이 지급됩니다.</span><br style=\"color: rgb(72, 72, 72); font-family: tahoma; font-size: 12px; background-color: rgb(255, 255, 255);\"/><br style=\"color: rgb(72, 72, 72); font-family: tahoma; font-size: 12px; background-color: rgb(255, 255, 255);\"/><span style=\"color: rgb(72, 72, 72); font-family: tahoma; font-size: 12px; background-color: rgb(255, 255, 255);\">2. Best 후기 - Best 후기 적립금은 일주일 단위로 선정 및 지급됩니다.</span><br style=\"color: rgb(72, 72, 72); font-family: tahoma; font-size: 12px; background-color: rgb(255, 255, 255);\"/><span style=\"color: rgb(72, 72, 72); font-family: tahoma; font-size: 12px; background-color: rgb(255, 255, 255);\">1) 선정 건 수 - 일주일 최대 30건</span><br style=\"color: rgb(72, 72, 72); font-family: tahoma; font-size: 12px; background-color: rgb(255, 255, 255);\"/><span style=\"color: rgb(72, 72, 72); font-family: tahoma; font-size: 12px; background-color: rgb(255, 255, 255);\">2) 지급 일시 - 매주 수요일( 지급일이 공휴일의 경우 전 영업일)</span><br style=\"color: rgb(72, 72, 72); font-family: tahoma; font-size: 12px; background-color: rgb(255, 255, 255);\"/><span style=\"color: rgb(72, 72, 72); font-family: tahoma; font-size: 12px; background-color: rgb(255, 255, 255);\">3) 당첨 ID 및 그 주의 Best 후기는 후기 게시판 내 공지사항으로 등록됩니다.</span><br style=\"color: rgb(72, 72, 72); font-family: tahoma; font-size: 12px; background-color: rgb(255, 255, 255);\"/><br style=\"color: rgb(72, 72, 72); font-family: tahoma; font-size: 12px; background-color: rgb(255, 255, 255);\"/><span style=\"color: rgb(72, 72, 72); font-family: tahoma; font-size: 12px; background-color: rgb(255, 255, 255);\">3. 상품 후기 게시판(Product review) 적립금 지급 유의 사항</span><br style=\"color: rgb(72, 72, 72); font-family: tahoma; font-size: 12px; background-color: rgb(255, 255, 255);\"/><span style=\"color: rgb(72, 72, 72); font-family: tahoma; font-size: 12px; background-color: rgb(255, 255, 255);\">1) 실제 구매한 상품의 후기가 아닌 경우 Best 후기 당첨 시 제외 됩니다.</span><br style=\"color: rgb(72, 72, 72); font-family: tahoma; font-size: 12px; background-color: rgb(255, 255, 255);\"/><span style=\"color: rgb(72, 72, 72); font-family: tahoma; font-size: 12px; background-color: rgb(255, 255, 255);\">2) 구매 상품 외의 사진이 첨부된 경우 후기 적립금 정책으로 제공한 적립금이 취소 될 수 있습니다.</span>\n",
       " </div>,\n",
       " <div class=\"inner_review\">\n",
       " <div class=\"name_purchase\">\n",
       " <strong class=\"name\">[퀘스크렘] 블루치즈 크림치즈</strong>\n",
       " <p class=\"package\"></p>\n",
       " </div>\n",
       " <div class=\"review_photo\"></div>\n",
       " 잘 숙성된 치즈의 향입니다.\n",
       " </div>,\n",
       " <div class=\"inner_review\">\n",
       " <div class=\"name_purchase\">\n",
       " <strong class=\"name\">[퀘스크렘] 블루치즈 크림치즈</strong>\n",
       " <p class=\"package\"></p>\n",
       " </div>\n",
       " <div class=\"review_photo\"></div>\n",
       " 블루치즈 잘 못먹는 분들도 드실 수 있을 것 같아요\n",
       " </div>,\n",
       " <div class=\"inner_review\">\n",
       " <div class=\"name_purchase\">\n",
       " <strong class=\"name\">[퀘스크렘] 블루치즈 크림치즈</strong>\n",
       " <p class=\"package\"></p>\n",
       " </div>\n",
       " <div class=\"review_photo\"></div>\n",
       " 재구매 의사 백프로입니다. 달지않고 짜지도 않은 데일리로 즐기기 좋은 깊이감있는 맛의 크림치즈입니다!\n",
       " </div>,\n",
       " <div class=\"inner_review\">\n",
       " <div class=\"name_purchase\">\n",
       " <strong class=\"name\">[퀘스크렘] 블루치즈 크림치즈</strong>\n",
       " <p class=\"package\"></p>\n",
       " </div>\n",
       " <div class=\"review_photo\"></div>\n",
       " 발라 먹어보려구요 ㅎㅎ\n",
       " </div>,\n",
       " <div class=\"inner_review\">\n",
       " <div class=\"name_purchase\">\n",
       " <strong class=\"name\">[퀘스크렘] 블루치즈 크림치즈</strong>\n",
       " <p class=\"package\"></p>\n",
       " </div>\n",
       " <div class=\"review_photo\"></div>\n",
       " 생각보다 안큠쿰해요^^\n",
       " </div>]"
      ]
     },
     "execution_count": 134,
     "metadata": {},
     "output_type": "execute_result"
    }
   ],
   "source": [
    "# 치즈 구매후기 제목 추출 - step1\n",
    "\n",
    "from bs4 import BeautifulSoup\n",
    "\n",
    "# html = driver.page_source\n",
    "\n",
    "soup = BeautifulSoup(page,'lxml')\n",
    "\n",
    "all_review_detail = soup.find_all('div', 'inner_review')\n",
    "\n",
    "\n",
    "review_detail = soup.find_all('div', 'inner_review')\n",
    "\n",
    "sleep(1.53)\n",
    "\n",
    "\n",
    "#total = len(all_review_title)\n",
    "# print(total)\n",
    "review_detail\n",
    "\n",
    "# type(title) # type: list\n",
    "#title\n"
   ]
  },
  {
   "cell_type": "code",
   "execution_count": 143,
   "metadata": {},
   "outputs": [
    {
     "name": "stdout",
     "output_type": "stream",
     "text": [
      "pl\n",
      "na\n"
     ]
    }
   ],
   "source": [
    "a = 'apple'\n",
    "b = 'banana'\n",
    "\n",
    "print(a[2:4])\n",
    "print(b[2:4])"
   ]
  },
  {
   "cell_type": "code",
   "execution_count": 152,
   "metadata": {},
   "outputs": [
    {
     "ename": "TypeError",
     "evalue": "expected string or bytes-like object",
     "output_type": "error",
     "traceback": [
      "\u001b[0;31m---------------------------------------------------------------------------\u001b[0m",
      "\u001b[0;31mTypeError\u001b[0m                                 Traceback (most recent call last)",
      "\u001b[0;32m<ipython-input-152-865caf4d0be3>\u001b[0m in \u001b[0;36m<module>\u001b[0;34m\u001b[0m\n\u001b[1;32m      4\u001b[0m \u001b[0mstr2\u001b[0m \u001b[0;34m=\u001b[0m \u001b[0;34m'review_photo'\u001b[0m\u001b[0;34m\u001b[0m\u001b[0;34m\u001b[0m\u001b[0m\n\u001b[1;32m      5\u001b[0m \u001b[0;34m\u001b[0m\u001b[0m\n\u001b[0;32m----> 6\u001b[0;31m \u001b[0;32mfor\u001b[0m \u001b[0ma\u001b[0m \u001b[0;32min\u001b[0m \u001b[0mre\u001b[0m\u001b[0;34m.\u001b[0m\u001b[0mfinditer\u001b[0m\u001b[0;34m(\u001b[0m\u001b[0mstr2\u001b[0m\u001b[0;34m,\u001b[0m \u001b[0mreview_detail\u001b[0m\u001b[0;34m)\u001b[0m \u001b[0;34m:\u001b[0m\u001b[0;34m\u001b[0m\u001b[0;34m\u001b[0m\u001b[0m\n\u001b[0m\u001b[1;32m      7\u001b[0m     \u001b[0mprint\u001b[0m\u001b[0;34m(\u001b[0m\u001b[0ma\u001b[0m\u001b[0;34m.\u001b[0m\u001b[0mstart\u001b[0m\u001b[0;34m(\u001b[0m\u001b[0;34m)\u001b[0m\u001b[0;34m)\u001b[0m\u001b[0;34m\u001b[0m\u001b[0;34m\u001b[0m\u001b[0m\n",
      "\u001b[0;32m~/anaconda3/lib/python3.7/re.py\u001b[0m in \u001b[0;36mfinditer\u001b[0;34m(pattern, string, flags)\u001b[0m\n\u001b[1;32m    228\u001b[0m \u001b[0;34m\u001b[0m\u001b[0m\n\u001b[1;32m    229\u001b[0m     Empty matches are included in the result.\"\"\"\n\u001b[0;32m--> 230\u001b[0;31m     \u001b[0;32mreturn\u001b[0m \u001b[0m_compile\u001b[0m\u001b[0;34m(\u001b[0m\u001b[0mpattern\u001b[0m\u001b[0;34m,\u001b[0m \u001b[0mflags\u001b[0m\u001b[0;34m)\u001b[0m\u001b[0;34m.\u001b[0m\u001b[0mfinditer\u001b[0m\u001b[0;34m(\u001b[0m\u001b[0mstring\u001b[0m\u001b[0;34m)\u001b[0m\u001b[0;34m\u001b[0m\u001b[0;34m\u001b[0m\u001b[0m\n\u001b[0m\u001b[1;32m    231\u001b[0m \u001b[0;34m\u001b[0m\u001b[0m\n\u001b[1;32m    232\u001b[0m \u001b[0;32mdef\u001b[0m \u001b[0mcompile\u001b[0m\u001b[0;34m(\u001b[0m\u001b[0mpattern\u001b[0m\u001b[0;34m,\u001b[0m \u001b[0mflags\u001b[0m\u001b[0;34m=\u001b[0m\u001b[0;36m0\u001b[0m\u001b[0;34m)\u001b[0m\u001b[0;34m:\u001b[0m\u001b[0;34m\u001b[0m\u001b[0;34m\u001b[0m\u001b[0m\n",
      "\u001b[0;31mTypeError\u001b[0m: expected string or bytes-like object"
     ]
    }
   ],
   "source": [
    "import re\n",
    "\n",
    "str1 = review_detail\n",
    "str2 = 'review_photo'\n",
    "\n",
    "for a in re.finditer(str2, str1) :\n",
    "    print(a.start())"
   ]
  },
  {
   "cell_type": "code",
   "execution_count": 150,
   "metadata": {},
   "outputs": [
    {
     "name": "stdout",
     "output_type": "stream",
     "text": [
      "6\n",
      "13\n",
      "19\n"
     ]
    }
   ],
   "source": [
    "import re\n",
    "\n",
    "str1 = 'hello world! world world'\n",
    "str2 = 'world'\n",
    "    \n",
    "for a in re.finditer(str2, str1) :\n",
    "    print(a.start())"
   ]
  },
  {
   "cell_type": "code",
   "execution_count": 140,
   "metadata": {},
   "outputs": [
    {
     "data": {
      "text/plain": [
       "[<div class=\"review_photo\"></div>,\n",
       " <div class=\"review_photo\"></div>,\n",
       " <div class=\"review_photo\"></div>,\n",
       " <div class=\"review_photo\"></div>,\n",
       " <div class=\"review_photo\"></div>,\n",
       " <div class=\"review_photo\"></div>,\n",
       " <div class=\"review_photo\"></div>]"
      ]
     },
     "execution_count": 140,
     "metadata": {},
     "output_type": "execute_result"
    }
   ],
   "source": [
    "# 치즈 구매후기 제목 추출 - 상세 후기\n",
    "\n",
    "from bs4 import BeautifulSoup\n",
    "\n",
    "# html = driver.page_source\n",
    "\n",
    "soup = BeautifulSoup(page,'lxml')\n",
    "\n",
    "all_review_detail = soup.find_all('div', 'review_photo')\n",
    "\n",
    "\n",
    "review_detail = soup.find_all('div', 'review_photo')\n",
    "\n",
    "sleep(1.53)\n",
    "\n",
    "\n",
    "#total = len(all_review_title)\n",
    "# print(total)\n",
    "review_detail\n",
    "\n",
    "# type(title) # type: list\n",
    "#title\n"
   ]
  },
  {
   "cell_type": "code",
   "execution_count": null,
   "metadata": {},
   "outputs": [],
   "source": [
    "import time\n",
    "import random\n",
    "\n",
    "# 1~5초 사이 랜덤한 시간으로 휴식 후 데이터 긁어옴\n",
    "time.sleep(random.uniform(1, 5))\n",
    "\n",
    "# print 넣은 값과 그냥 뿌린 값의 출력모양이 다르다(수평, 수직)\n",
    "print(video_time)\n",
    "print(\"=============================================================\")\n",
    "video_time"
   ]
  },
  {
   "cell_type": "code",
   "execution_count": 188,
   "metadata": {
    "scrolled": true
   },
   "outputs": [
    {
     "ename": "WebDriverException",
     "evalue": "Message: chrome not reachable\n  (Session info: chrome=85.0.4183.121)\n",
     "output_type": "error",
     "traceback": [
      "\u001b[0;31m---------------------------------------------------------------------------\u001b[0m",
      "\u001b[0;31mWebDriverException\u001b[0m                        Traceback (most recent call last)",
      "\u001b[0;32m<ipython-input-188-039cdfe689db>\u001b[0m in \u001b[0;36m<module>\u001b[0;34m\u001b[0m\n\u001b[1;32m     11\u001b[0m \u001b[0;31m# 리뷰 상세내용\u001b[0m\u001b[0;34m\u001b[0m\u001b[0;34m\u001b[0m\u001b[0;34m\u001b[0m\u001b[0m\n\u001b[1;32m     12\u001b[0m \u001b[0;31m# review_detail = soup.find_all('div', 'inner_review')\u001b[0m\u001b[0;34m\u001b[0m\u001b[0;34m\u001b[0m\u001b[0;34m\u001b[0m\u001b[0m\n\u001b[0;32m---> 13\u001b[0;31m \u001b[0mreview_detail\u001b[0m \u001b[0;34m=\u001b[0m \u001b[0mdriver\u001b[0m\u001b[0;34m.\u001b[0m\u001b[0mfind_element_by_xpath\u001b[0m\u001b[0;34m(\u001b[0m\u001b[0;34m'div[]'\u001b[0m\u001b[0;34m)\u001b[0m\u001b[0;34m\u001b[0m\u001b[0;34m\u001b[0m\u001b[0m\n\u001b[0m\u001b[1;32m     14\u001b[0m \u001b[0;34m\u001b[0m\u001b[0m\n\u001b[1;32m     15\u001b[0m \u001b[0;31m# 리뷰 작성일\u001b[0m\u001b[0;34m\u001b[0m\u001b[0;34m\u001b[0m\u001b[0;34m\u001b[0m\u001b[0m\n",
      "\u001b[0;32m~/anaconda3/lib/python3.7/site-packages/selenium/webdriver/remote/webdriver.py\u001b[0m in \u001b[0;36mfind_element_by_xpath\u001b[0;34m(self, xpath)\u001b[0m\n\u001b[1;32m    392\u001b[0m             \u001b[0melement\u001b[0m \u001b[0;34m=\u001b[0m \u001b[0mdriver\u001b[0m\u001b[0;34m.\u001b[0m\u001b[0mfind_element_by_xpath\u001b[0m\u001b[0;34m(\u001b[0m\u001b[0;34m'//div/td[1]'\u001b[0m\u001b[0;34m)\u001b[0m\u001b[0;34m\u001b[0m\u001b[0;34m\u001b[0m\u001b[0m\n\u001b[1;32m    393\u001b[0m         \"\"\"\n\u001b[0;32m--> 394\u001b[0;31m         \u001b[0;32mreturn\u001b[0m \u001b[0mself\u001b[0m\u001b[0;34m.\u001b[0m\u001b[0mfind_element\u001b[0m\u001b[0;34m(\u001b[0m\u001b[0mby\u001b[0m\u001b[0;34m=\u001b[0m\u001b[0mBy\u001b[0m\u001b[0;34m.\u001b[0m\u001b[0mXPATH\u001b[0m\u001b[0;34m,\u001b[0m \u001b[0mvalue\u001b[0m\u001b[0;34m=\u001b[0m\u001b[0mxpath\u001b[0m\u001b[0;34m)\u001b[0m\u001b[0;34m\u001b[0m\u001b[0;34m\u001b[0m\u001b[0m\n\u001b[0m\u001b[1;32m    395\u001b[0m \u001b[0;34m\u001b[0m\u001b[0m\n\u001b[1;32m    396\u001b[0m     \u001b[0;32mdef\u001b[0m \u001b[0mfind_elements_by_xpath\u001b[0m\u001b[0;34m(\u001b[0m\u001b[0mself\u001b[0m\u001b[0;34m,\u001b[0m \u001b[0mxpath\u001b[0m\u001b[0;34m)\u001b[0m\u001b[0;34m:\u001b[0m\u001b[0;34m\u001b[0m\u001b[0;34m\u001b[0m\u001b[0m\n",
      "\u001b[0;32m~/anaconda3/lib/python3.7/site-packages/selenium/webdriver/remote/webdriver.py\u001b[0m in \u001b[0;36mfind_element\u001b[0;34m(self, by, value)\u001b[0m\n\u001b[1;32m    976\u001b[0m         return self.execute(Command.FIND_ELEMENT, {\n\u001b[1;32m    977\u001b[0m             \u001b[0;34m'using'\u001b[0m\u001b[0;34m:\u001b[0m \u001b[0mby\u001b[0m\u001b[0;34m,\u001b[0m\u001b[0;34m\u001b[0m\u001b[0;34m\u001b[0m\u001b[0m\n\u001b[0;32m--> 978\u001b[0;31m             'value': value})['value']\n\u001b[0m\u001b[1;32m    979\u001b[0m \u001b[0;34m\u001b[0m\u001b[0m\n\u001b[1;32m    980\u001b[0m     \u001b[0;32mdef\u001b[0m \u001b[0mfind_elements\u001b[0m\u001b[0;34m(\u001b[0m\u001b[0mself\u001b[0m\u001b[0;34m,\u001b[0m \u001b[0mby\u001b[0m\u001b[0;34m=\u001b[0m\u001b[0mBy\u001b[0m\u001b[0;34m.\u001b[0m\u001b[0mID\u001b[0m\u001b[0;34m,\u001b[0m \u001b[0mvalue\u001b[0m\u001b[0;34m=\u001b[0m\u001b[0;32mNone\u001b[0m\u001b[0;34m)\u001b[0m\u001b[0;34m:\u001b[0m\u001b[0;34m\u001b[0m\u001b[0;34m\u001b[0m\u001b[0m\n",
      "\u001b[0;32m~/anaconda3/lib/python3.7/site-packages/selenium/webdriver/remote/webdriver.py\u001b[0m in \u001b[0;36mexecute\u001b[0;34m(self, driver_command, params)\u001b[0m\n\u001b[1;32m    319\u001b[0m         \u001b[0mresponse\u001b[0m \u001b[0;34m=\u001b[0m \u001b[0mself\u001b[0m\u001b[0;34m.\u001b[0m\u001b[0mcommand_executor\u001b[0m\u001b[0;34m.\u001b[0m\u001b[0mexecute\u001b[0m\u001b[0;34m(\u001b[0m\u001b[0mdriver_command\u001b[0m\u001b[0;34m,\u001b[0m \u001b[0mparams\u001b[0m\u001b[0;34m)\u001b[0m\u001b[0;34m\u001b[0m\u001b[0;34m\u001b[0m\u001b[0m\n\u001b[1;32m    320\u001b[0m         \u001b[0;32mif\u001b[0m \u001b[0mresponse\u001b[0m\u001b[0;34m:\u001b[0m\u001b[0;34m\u001b[0m\u001b[0;34m\u001b[0m\u001b[0m\n\u001b[0;32m--> 321\u001b[0;31m             \u001b[0mself\u001b[0m\u001b[0;34m.\u001b[0m\u001b[0merror_handler\u001b[0m\u001b[0;34m.\u001b[0m\u001b[0mcheck_response\u001b[0m\u001b[0;34m(\u001b[0m\u001b[0mresponse\u001b[0m\u001b[0;34m)\u001b[0m\u001b[0;34m\u001b[0m\u001b[0;34m\u001b[0m\u001b[0m\n\u001b[0m\u001b[1;32m    322\u001b[0m             response['value'] = self._unwrap_value(\n\u001b[1;32m    323\u001b[0m                 response.get('value', None))\n",
      "\u001b[0;32m~/anaconda3/lib/python3.7/site-packages/selenium/webdriver/remote/errorhandler.py\u001b[0m in \u001b[0;36mcheck_response\u001b[0;34m(self, response)\u001b[0m\n\u001b[1;32m    240\u001b[0m                 \u001b[0malert_text\u001b[0m \u001b[0;34m=\u001b[0m \u001b[0mvalue\u001b[0m\u001b[0;34m[\u001b[0m\u001b[0;34m'alert'\u001b[0m\u001b[0;34m]\u001b[0m\u001b[0;34m.\u001b[0m\u001b[0mget\u001b[0m\u001b[0;34m(\u001b[0m\u001b[0;34m'text'\u001b[0m\u001b[0;34m)\u001b[0m\u001b[0;34m\u001b[0m\u001b[0;34m\u001b[0m\u001b[0m\n\u001b[1;32m    241\u001b[0m             \u001b[0;32mraise\u001b[0m \u001b[0mexception_class\u001b[0m\u001b[0;34m(\u001b[0m\u001b[0mmessage\u001b[0m\u001b[0;34m,\u001b[0m \u001b[0mscreen\u001b[0m\u001b[0;34m,\u001b[0m \u001b[0mstacktrace\u001b[0m\u001b[0;34m,\u001b[0m \u001b[0malert_text\u001b[0m\u001b[0;34m)\u001b[0m\u001b[0;34m\u001b[0m\u001b[0;34m\u001b[0m\u001b[0m\n\u001b[0;32m--> 242\u001b[0;31m         \u001b[0;32mraise\u001b[0m \u001b[0mexception_class\u001b[0m\u001b[0;34m(\u001b[0m\u001b[0mmessage\u001b[0m\u001b[0;34m,\u001b[0m \u001b[0mscreen\u001b[0m\u001b[0;34m,\u001b[0m \u001b[0mstacktrace\u001b[0m\u001b[0;34m)\u001b[0m\u001b[0;34m\u001b[0m\u001b[0;34m\u001b[0m\u001b[0m\n\u001b[0m\u001b[1;32m    243\u001b[0m \u001b[0;34m\u001b[0m\u001b[0m\n\u001b[1;32m    244\u001b[0m     \u001b[0;32mdef\u001b[0m \u001b[0m_value_or_default\u001b[0m\u001b[0;34m(\u001b[0m\u001b[0mself\u001b[0m\u001b[0;34m,\u001b[0m \u001b[0mobj\u001b[0m\u001b[0;34m,\u001b[0m \u001b[0mkey\u001b[0m\u001b[0;34m,\u001b[0m \u001b[0mdefault\u001b[0m\u001b[0;34m)\u001b[0m\u001b[0;34m:\u001b[0m\u001b[0;34m\u001b[0m\u001b[0;34m\u001b[0m\u001b[0m\n",
      "\u001b[0;31mWebDriverException\u001b[0m: Message: chrome not reachable\n  (Session info: chrome=85.0.4183.121)\n"
     ]
    }
   ],
   "source": [
    "import time\n",
    "import random\n",
    "\n",
    "# 리뷰 제품명\n",
    "# review_product = soup.find_all('div', 'test')\n",
    "# review_product = driver.find_elements_by_xpath('/html/body/div/div[1]/div/form/div[4]/div/div[1]/text()')\n",
    "\n",
    "\n",
    "time.sleep(random.uniform(1, 2))\n",
    "\n",
    "# 리뷰 상세내용\n",
    "# review_detail = soup.find_all('div', 'inner_review')\n",
    "review_detail = driver.find_element_by_xpath('div[]')\n",
    "\n",
    "# 리뷰 작성일\n",
    "# review_create_date\n",
    "\n",
    "# 리뷰 조회수\n",
    "# review_views\n",
    "\n",
    "\n",
    "review_product\n",
    "# review_detail\n",
    "# print(review_product)\n",
    "\n",
    "# review_detail\n"
   ]
  },
  {
   "cell_type": "code",
   "execution_count": 129,
   "metadata": {},
   "outputs": [
    {
     "name": "stdout",
     "output_type": "stream",
     "text": [
      "\n"
     ]
    }
   ],
   "source": [
    "print(review_product.text)\n",
    "\n",
    "# 값이 안나옴"
   ]
  },
  {
   "cell_type": "code",
   "execution_count": 102,
   "metadata": {},
   "outputs": [
    {
     "name": "stdout",
     "output_type": "stream",
     "text": [
      "상품 개수: 1\n",
      "title: \n"
     ]
    }
   ],
   "source": [
    "elements = driver.find_elements_by_xpath('//*[@id=\"contents-wrapper\"]/div[1]')\n",
    " \n",
    "print( '상품 개수: {}'.format( len(elements) ) )\n",
    "for el in elements:\n",
    "    el_title = el.find_element_by_xpath('div/form/div[4]/div/div[1]')\n",
    " \n",
    "    # tagName = el_title.tag_name\n",
    "    # className = el_title.get_attribute('class')\n",
    "    title = el_title.text\n",
    "    \n",
    "    # print( '='*50 )\n",
    "    # print( 'tagName: {}'.format( tagName ) )\n",
    "    # print( 'className: {}'.format( className ) )\n",
    "    print( 'title: {}'.format( title ) )"
   ]
  },
  {
   "cell_type": "code",
   "execution_count": 34,
   "metadata": {},
   "outputs": [
    {
     "data": {
      "text/plain": [
       "bs4.element.NavigableString"
      ]
     },
     "execution_count": 34,
     "metadata": {},
     "output_type": "execute_result"
    }
   ],
   "source": [
    "type(channel_name)"
   ]
  },
  {
   "cell_type": "code",
   "execution_count": 45,
   "metadata": {},
   "outputs": [
    {
     "data": {
      "text/plain": [
       "44"
      ]
     },
     "execution_count": 45,
     "metadata": {},
     "output_type": "execute_result"
    }
   ],
   "source": [
    "a = 'https://www.youtube.com//watch?v=gkL4WkUqs4s'\n",
    "\n",
    "len(a)"
   ]
  },
  {
   "cell_type": "code",
   "execution_count": 33,
   "metadata": {},
   "outputs": [
    {
     "data": {
      "text/plain": [
       "'applebanana'"
      ]
     },
     "execution_count": 33,
     "metadata": {},
     "output_type": "execute_result"
    }
   ],
   "source": [
    "a = 'apple'\n",
    "b = 'banana'\n",
    "\n",
    "a + b"
   ]
  },
  {
   "cell_type": "code",
   "execution_count": 10,
   "metadata": {},
   "outputs": [
    {
     "data": {
      "text/plain": [
       "'2020/09/25 10:59:18'"
      ]
     },
     "execution_count": 10,
     "metadata": {},
     "output_type": "execute_result"
    }
   ],
   "source": [
    "from time import localtime, strftime\n",
    "\n",
    "# 현재 시간\n",
    "present_datetime = strftime(\"%Y/%m/%d %H:%M:%S\", localtime())\n",
    "\n",
    "present_datetime"
   ]
  },
  {
   "cell_type": "code",
   "execution_count": 67,
   "metadata": {},
   "outputs": [
    {
     "data": {
      "text/plain": [
       "str"
      ]
     },
     "execution_count": 67,
     "metadata": {},
     "output_type": "execute_result"
    }
   ],
   "source": [
    "type(video_link.get('href'))"
   ]
  },
  {
   "cell_type": "code",
   "execution_count": null,
   "metadata": {},
   "outputs": [],
   "source": [
    "for video_link in soup.find_all('a', 'yt-simple-endpoint style-scope ytd-grid-video-renderer'):\n",
    "    \n",
    "    print(\"https://www.youtube.com/\" + video_link.get('href'))"
   ]
  },
  {
   "cell_type": "code",
   "execution_count": 40,
   "metadata": {},
   "outputs": [
    {
     "data": {
      "text/plain": [
       "30"
      ]
     },
     "execution_count": 40,
     "metadata": {},
     "output_type": "execute_result"
    }
   ],
   "source": [
    "len(youtube_video_list)"
   ]
  },
  {
   "cell_type": "code",
   "execution_count": 41,
   "metadata": {},
   "outputs": [
    {
     "data": {
      "text/plain": [
       "list"
      ]
     },
     "execution_count": 41,
     "metadata": {},
     "output_type": "execute_result"
    }
   ],
   "source": [
    "type(youtube_video_list)"
   ]
  },
  {
   "cell_type": "code",
   "execution_count": 13,
   "metadata": {},
   "outputs": [
    {
     "data": {
      "text/plain": [
       "pandas.core.frame.DataFrame"
      ]
     },
     "execution_count": 13,
     "metadata": {},
     "output_type": "execute_result"
    }
   ],
   "source": [
    "type(pd_youtube_video_list)"
   ]
  },
  {
   "cell_type": "code",
   "execution_count": 154,
   "metadata": {},
   "outputs": [
    {
     "name": "stdout",
     "output_type": "stream",
     "text": [
      "번호,제품명,후기 제목,후기 상세,작성일,조회수\r\n",
      "1,[퀘스크렘] 블루치즈 크림치즈,맛있어요,크림치즈는 사랑입니다,2020-10-19,2\r\n",
      "2,[퀘스크렘] 블루치즈 크림치즈,만족합니다.,잘 숙성된 치즈의 향입니다.,2020-10-17,2\r\n",
      "3,[퀘스크렘] 블루치즈 크림치즈,무난,블루치즈 잘 못먹는 분들도 드실 수 있을 것 같아요,2020-10-15,6\r\n",
      "4,[퀘스크렘] 블루치즈 크림치즈,짱짱,재구매 의사 백프로입니다. 달지않고 짜지도 않은 데일리로 즐기기 좋은 깊이감있는 맛의 크림치즈입니다!,2020-10-15,5\r\n",
      "5,[퀘스크렘] 블루치즈 크림치즈,베이글에,발라 먹어보려구요 ㅎㅎ,2020-10-15,17\r\n",
      "6,[퀘스크렘] 블루치즈 크림치즈,굿,생각보다 안큠쿰해요^^,2020-10-15,6\r\n",
      "7,[퀘스크렘] 블루치즈 크림치즈,재구매,블루치즈향 심하지않아요. 너무 맛있어요,2020-10-14,20\r\n",
      "8,[퀘스크렘] 블루치즈 크림치즈,진한 크림치즈,컬리에서 산 픽어베이글 + 아보카도랑 같이 먹었어요  블루치즈 크림치즈 엄청 꾸덕하고 맛있어요 최고,2020-10-13,17\r\n",
      "9,[퀘스크렘] 블루치즈 크림치즈,맛있어요,향도진하고 바게뜨에발라 먹으니 맛있네요,2020-10-13,7\r\n"
     ]
    }
   ],
   "source": [
    "!head /home/bitai/Documents/EMP_Team/DataSet/치즈_리뷰_마켓컬리.csv"
   ]
  },
  {
   "cell_type": "code",
   "execution_count": 171,
   "metadata": {},
   "outputs": [],
   "source": [
    "import pandas as pd\n",
    "\n",
    "cheese_data_frame = pd.read_csv(\n",
    "    '/home/bitai/Documents/EMP_Team/DataSet/치즈_리뷰_마켓컬리.csv',\n",
    "    sep=','\n",
    ")"
   ]
  },
  {
   "cell_type": "code",
   "execution_count": 172,
   "metadata": {},
   "outputs": [
    {
     "data": {
      "text/html": [
       "<div>\n",
       "<style scoped>\n",
       "    .dataframe tbody tr th:only-of-type {\n",
       "        vertical-align: middle;\n",
       "    }\n",
       "\n",
       "    .dataframe tbody tr th {\n",
       "        vertical-align: top;\n",
       "    }\n",
       "\n",
       "    .dataframe thead th {\n",
       "        text-align: right;\n",
       "    }\n",
       "</style>\n",
       "<table border=\"1\" class=\"dataframe\">\n",
       "  <thead>\n",
       "    <tr style=\"text-align: right;\">\n",
       "      <th></th>\n",
       "      <th>번호</th>\n",
       "      <th>제품명</th>\n",
       "      <th>후기 제목</th>\n",
       "      <th>후기 상세</th>\n",
       "      <th>작성일</th>\n",
       "      <th>조회수</th>\n",
       "    </tr>\n",
       "  </thead>\n",
       "  <tbody>\n",
       "    <tr>\n",
       "      <th>0</th>\n",
       "      <td>1</td>\n",
       "      <td>[퀘스크렘] 블루치즈 크림치즈</td>\n",
       "      <td>맛있어요</td>\n",
       "      <td>크림치즈는 사랑입니다</td>\n",
       "      <td>2020-10-19</td>\n",
       "      <td>2.0</td>\n",
       "    </tr>\n",
       "    <tr>\n",
       "      <th>1</th>\n",
       "      <td>2</td>\n",
       "      <td>[퀘스크렘] 블루치즈 크림치즈</td>\n",
       "      <td>만족합니다.</td>\n",
       "      <td>잘 숙성된 치즈의 향입니다.</td>\n",
       "      <td>2020-10-17</td>\n",
       "      <td>2.0</td>\n",
       "    </tr>\n",
       "    <tr>\n",
       "      <th>2</th>\n",
       "      <td>3</td>\n",
       "      <td>[퀘스크렘] 블루치즈 크림치즈</td>\n",
       "      <td>무난</td>\n",
       "      <td>블루치즈 잘 못먹는 분들도 드실 수 있을 것 같아요</td>\n",
       "      <td>2020-10-15</td>\n",
       "      <td>6.0</td>\n",
       "    </tr>\n",
       "    <tr>\n",
       "      <th>3</th>\n",
       "      <td>4</td>\n",
       "      <td>[퀘스크렘] 블루치즈 크림치즈</td>\n",
       "      <td>짱짱</td>\n",
       "      <td>재구매 의사 백프로입니다. 달지않고 짜지도 않은 데일리로 즐기기 좋은 깊이감있는 맛...</td>\n",
       "      <td>2020-10-15</td>\n",
       "      <td>5.0</td>\n",
       "    </tr>\n",
       "    <tr>\n",
       "      <th>4</th>\n",
       "      <td>5</td>\n",
       "      <td>[퀘스크렘] 블루치즈 크림치즈</td>\n",
       "      <td>베이글에</td>\n",
       "      <td>발라 먹어보려구요 ㅎㅎ</td>\n",
       "      <td>2020-10-15</td>\n",
       "      <td>17.0</td>\n",
       "    </tr>\n",
       "    <tr>\n",
       "      <th>...</th>\n",
       "      <td>...</td>\n",
       "      <td>...</td>\n",
       "      <td>...</td>\n",
       "      <td>...</td>\n",
       "      <td>...</td>\n",
       "      <td>...</td>\n",
       "    </tr>\n",
       "    <tr>\n",
       "      <th>140</th>\n",
       "      <td>141</td>\n",
       "      <td>[포인트 레이스] 오리지널 블루</td>\n",
       "      <td>좋아요</td>\n",
       "      <td>아빠가 항상 두고 드시는 블루치즈! 컬리에서 파는 프랑스,미국 블루치즈 둘다 보내드...</td>\n",
       "      <td>2020-08-23</td>\n",
       "      <td>10.0</td>\n",
       "    </tr>\n",
       "    <tr>\n",
       "      <th>141</th>\n",
       "      <td>142</td>\n",
       "      <td>[포인트 레이스] 오리지널 블루</td>\n",
       "      <td>블루</td>\n",
       "      <td>오리지널 블루치즈 쪼아요</td>\n",
       "      <td>2020-08-04</td>\n",
       "      <td>18.0</td>\n",
       "    </tr>\n",
       "    <tr>\n",
       "      <th>142</th>\n",
       "      <td>143</td>\n",
       "      <td>[포인트 레이스] 오리지널 블루</td>\n",
       "      <td>입이 즐거운</td>\n",
       "      <td>블루치즈 진하고 풍미가 있어 맛있게 잘먹었어요~!</td>\n",
       "      <td>2020-08-04</td>\n",
       "      <td>42.0</td>\n",
       "    </tr>\n",
       "    <tr>\n",
       "      <th>143</th>\n",
       "      <td>144</td>\n",
       "      <td>[포인트 레이스] 오리지널 블루</td>\n",
       "      <td>샐러드에 빵에</td>\n",
       "      <td>포인트로 조금씩 얹어 먹어요</td>\n",
       "      <td>2020-08-02</td>\n",
       "      <td>41.0</td>\n",
       "    </tr>\n",
       "    <tr>\n",
       "      <th>144</th>\n",
       "      <td>145</td>\n",
       "      <td>[포인트 레이스] 오리지널 블루</td>\n",
       "      <td>꼬릿</td>\n",
       "      <td>꼬잇한 향에 익숙치 않으시다면 비추지만 찐한 레드와인에는 강추입니다</td>\n",
       "      <td>2020-07-30</td>\n",
       "      <td>30.0</td>\n",
       "    </tr>\n",
       "  </tbody>\n",
       "</table>\n",
       "<p>145 rows × 6 columns</p>\n",
       "</div>"
      ],
      "text/plain": [
       "      번호                제품명    후기 제목  \\\n",
       "0      1   [퀘스크렘] 블루치즈 크림치즈     맛있어요   \n",
       "1      2   [퀘스크렘] 블루치즈 크림치즈   만족합니다.   \n",
       "2      3   [퀘스크렘] 블루치즈 크림치즈       무난   \n",
       "3      4   [퀘스크렘] 블루치즈 크림치즈       짱짱   \n",
       "4      5   [퀘스크렘] 블루치즈 크림치즈     베이글에   \n",
       "..   ...                ...      ...   \n",
       "140  141  [포인트 레이스] 오리지널 블루      좋아요   \n",
       "141  142  [포인트 레이스] 오리지널 블루       블루   \n",
       "142  143  [포인트 레이스] 오리지널 블루   입이 즐거운   \n",
       "143  144  [포인트 레이스] 오리지널 블루  샐러드에 빵에   \n",
       "144  145  [포인트 레이스] 오리지널 블루      꼬릿    \n",
       "\n",
       "                                                 후기 상세         작성일   조회수  \n",
       "0                                          크림치즈는 사랑입니다  2020-10-19   2.0  \n",
       "1                                      잘 숙성된 치즈의 향입니다.  2020-10-17   2.0  \n",
       "2                         블루치즈 잘 못먹는 분들도 드실 수 있을 것 같아요  2020-10-15   6.0  \n",
       "3    재구매 의사 백프로입니다. 달지않고 짜지도 않은 데일리로 즐기기 좋은 깊이감있는 맛...  2020-10-15   5.0  \n",
       "4                                         발라 먹어보려구요 ㅎㅎ  2020-10-15  17.0  \n",
       "..                                                 ...         ...   ...  \n",
       "140  아빠가 항상 두고 드시는 블루치즈! 컬리에서 파는 프랑스,미국 블루치즈 둘다 보내드...  2020-08-23  10.0  \n",
       "141                                      오리지널 블루치즈 쪼아요  2020-08-04  18.0  \n",
       "142                        블루치즈 진하고 풍미가 있어 맛있게 잘먹었어요~!  2020-08-04  42.0  \n",
       "143                                    포인트로 조금씩 얹어 먹어요  2020-08-02  41.0  \n",
       "144              꼬잇한 향에 익숙치 않으시다면 비추지만 찐한 레드와인에는 강추입니다  2020-07-30  30.0  \n",
       "\n",
       "[145 rows x 6 columns]"
      ]
     },
     "execution_count": 172,
     "metadata": {},
     "output_type": "execute_result"
    }
   ],
   "source": [
    "cheese_data_frame"
   ]
  },
  {
   "cell_type": "code",
   "execution_count": 159,
   "metadata": {},
   "outputs": [
    {
     "data": {
      "text/html": [
       "<div>\n",
       "<style scoped>\n",
       "    .dataframe tbody tr th:only-of-type {\n",
       "        vertical-align: middle;\n",
       "    }\n",
       "\n",
       "    .dataframe tbody tr th {\n",
       "        vertical-align: top;\n",
       "    }\n",
       "\n",
       "    .dataframe thead th {\n",
       "        text-align: right;\n",
       "    }\n",
       "</style>\n",
       "<table border=\"1\" class=\"dataframe\">\n",
       "  <thead>\n",
       "    <tr style=\"text-align: right;\">\n",
       "      <th></th>\n",
       "      <th>번호</th>\n",
       "      <th>제품명</th>\n",
       "      <th>후기 제목</th>\n",
       "      <th>후기 상세</th>\n",
       "      <th>작성일</th>\n",
       "      <th>조회수</th>\n",
       "    </tr>\n",
       "  </thead>\n",
       "  <tbody>\n",
       "    <tr>\n",
       "      <th>0</th>\n",
       "      <td>1</td>\n",
       "      <td>[퀘스크렘] 블루치즈 크림치즈</td>\n",
       "      <td>맛있어요</td>\n",
       "      <td>크림치즈는 사랑입니다</td>\n",
       "      <td>2020-10-19</td>\n",
       "      <td>2.0</td>\n",
       "    </tr>\n",
       "    <tr>\n",
       "      <th>1</th>\n",
       "      <td>2</td>\n",
       "      <td>[퀘스크렘] 블루치즈 크림치즈</td>\n",
       "      <td>만족합니다.</td>\n",
       "      <td>잘 숙성된 치즈의 향입니다.</td>\n",
       "      <td>2020-10-17</td>\n",
       "      <td>2.0</td>\n",
       "    </tr>\n",
       "    <tr>\n",
       "      <th>2</th>\n",
       "      <td>3</td>\n",
       "      <td>[퀘스크렘] 블루치즈 크림치즈</td>\n",
       "      <td>무난</td>\n",
       "      <td>블루치즈 잘 못먹는 분들도 드실 수 있을 것 같아요</td>\n",
       "      <td>2020-10-15</td>\n",
       "      <td>6.0</td>\n",
       "    </tr>\n",
       "    <tr>\n",
       "      <th>3</th>\n",
       "      <td>4</td>\n",
       "      <td>[퀘스크렘] 블루치즈 크림치즈</td>\n",
       "      <td>짱짱</td>\n",
       "      <td>재구매 의사 백프로입니다. 달지않고 짜지도 않은 데일리로 즐기기 좋은 깊이감있는 맛...</td>\n",
       "      <td>2020-10-15</td>\n",
       "      <td>5.0</td>\n",
       "    </tr>\n",
       "    <tr>\n",
       "      <th>4</th>\n",
       "      <td>5</td>\n",
       "      <td>[퀘스크렘] 블루치즈 크림치즈</td>\n",
       "      <td>베이글에</td>\n",
       "      <td>발라 먹어보려구요 ㅎㅎ</td>\n",
       "      <td>2020-10-15</td>\n",
       "      <td>17.0</td>\n",
       "    </tr>\n",
       "    <tr>\n",
       "      <th>5</th>\n",
       "      <td>6</td>\n",
       "      <td>[퀘스크렘] 블루치즈 크림치즈</td>\n",
       "      <td>굿</td>\n",
       "      <td>생각보다 안큠쿰해요^^</td>\n",
       "      <td>2020-10-15</td>\n",
       "      <td>6.0</td>\n",
       "    </tr>\n",
       "    <tr>\n",
       "      <th>6</th>\n",
       "      <td>7</td>\n",
       "      <td>[퀘스크렘] 블루치즈 크림치즈</td>\n",
       "      <td>재구매</td>\n",
       "      <td>블루치즈향 심하지않아요. 너무 맛있어요</td>\n",
       "      <td>2020-10-14</td>\n",
       "      <td>20.0</td>\n",
       "    </tr>\n",
       "    <tr>\n",
       "      <th>7</th>\n",
       "      <td>8</td>\n",
       "      <td>[퀘스크렘] 블루치즈 크림치즈</td>\n",
       "      <td>진한 크림치즈</td>\n",
       "      <td>컬리에서 산 픽어베이글 + 아보카도랑 같이 먹었어요  블루치즈 크림치즈 엄청 꾸덕하...</td>\n",
       "      <td>2020-10-13</td>\n",
       "      <td>17.0</td>\n",
       "    </tr>\n",
       "    <tr>\n",
       "      <th>8</th>\n",
       "      <td>9</td>\n",
       "      <td>[퀘스크렘] 블루치즈 크림치즈</td>\n",
       "      <td>맛있어요</td>\n",
       "      <td>향도진하고 바게뜨에발라 먹으니 맛있네요</td>\n",
       "      <td>2020-10-13</td>\n",
       "      <td>7.0</td>\n",
       "    </tr>\n",
       "    <tr>\n",
       "      <th>9</th>\n",
       "      <td>10</td>\n",
       "      <td>[퀘스크렘] 블루치즈 크림치즈</td>\n",
       "      <td>맛있어요</td>\n",
       "      <td>정말 맛있어요 계속 먹게되어요</td>\n",
       "      <td>2020-10-10</td>\n",
       "      <td>27.0</td>\n",
       "    </tr>\n",
       "  </tbody>\n",
       "</table>\n",
       "</div>"
      ],
      "text/plain": [
       "   번호               제품명    후기 제목  \\\n",
       "0   1  [퀘스크렘] 블루치즈 크림치즈     맛있어요   \n",
       "1   2  [퀘스크렘] 블루치즈 크림치즈   만족합니다.   \n",
       "2   3  [퀘스크렘] 블루치즈 크림치즈       무난   \n",
       "3   4  [퀘스크렘] 블루치즈 크림치즈       짱짱   \n",
       "4   5  [퀘스크렘] 블루치즈 크림치즈     베이글에   \n",
       "5   6  [퀘스크렘] 블루치즈 크림치즈        굿   \n",
       "6   7  [퀘스크렘] 블루치즈 크림치즈      재구매   \n",
       "7   8  [퀘스크렘] 블루치즈 크림치즈  진한 크림치즈   \n",
       "8   9  [퀘스크렘] 블루치즈 크림치즈     맛있어요   \n",
       "9  10  [퀘스크렘] 블루치즈 크림치즈     맛있어요   \n",
       "\n",
       "                                               후기 상세         작성일   조회수  \n",
       "0                                        크림치즈는 사랑입니다  2020-10-19   2.0  \n",
       "1                                    잘 숙성된 치즈의 향입니다.  2020-10-17   2.0  \n",
       "2                       블루치즈 잘 못먹는 분들도 드실 수 있을 것 같아요  2020-10-15   6.0  \n",
       "3  재구매 의사 백프로입니다. 달지않고 짜지도 않은 데일리로 즐기기 좋은 깊이감있는 맛...  2020-10-15   5.0  \n",
       "4                                       발라 먹어보려구요 ㅎㅎ  2020-10-15  17.0  \n",
       "5                                       생각보다 안큠쿰해요^^  2020-10-15   6.0  \n",
       "6                              블루치즈향 심하지않아요. 너무 맛있어요  2020-10-14  20.0  \n",
       "7  컬리에서 산 픽어베이글 + 아보카도랑 같이 먹었어요  블루치즈 크림치즈 엄청 꾸덕하...  2020-10-13  17.0  \n",
       "8                              향도진하고 바게뜨에발라 먹으니 맛있네요  2020-10-13   7.0  \n",
       "9                                   정말 맛있어요 계속 먹게되어요  2020-10-10  27.0  "
      ]
     },
     "execution_count": 159,
     "metadata": {},
     "output_type": "execute_result"
    }
   ],
   "source": [
    "cheese_data_frame.head(10)"
   ]
  },
  {
   "cell_type": "code",
   "execution_count": 160,
   "metadata": {},
   "outputs": [
    {
     "data": {
      "text/plain": [
       "(145, 6)"
      ]
     },
     "execution_count": 160,
     "metadata": {},
     "output_type": "execute_result"
    }
   ],
   "source": [
    "cheese_data_frame.shape"
   ]
  },
  {
   "cell_type": "code",
   "execution_count": 162,
   "metadata": {},
   "outputs": [
    {
     "data": {
      "text/plain": [
       "번호         int64\n",
       "제품명       object\n",
       "후기 제목     object\n",
       "후기 상세     object\n",
       "작성일       object\n",
       "조회수      float64\n",
       "dtype: object"
      ]
     },
     "execution_count": 162,
     "metadata": {},
     "output_type": "execute_result"
    }
   ],
   "source": [
    "cheese_data_frame.dtypes"
   ]
  },
  {
   "cell_type": "code",
   "execution_count": 164,
   "metadata": {},
   "outputs": [
    {
     "data": {
      "text/plain": [
       "dtype('float64')"
      ]
     },
     "execution_count": 164,
     "metadata": {},
     "output_type": "execute_result"
    }
   ],
   "source": [
    "cheese_data_frame.조회수.dtypes"
   ]
  },
  {
   "cell_type": "code",
   "execution_count": 165,
   "metadata": {},
   "outputs": [],
   "source": [
    "df = pd.DataFrame(cheese_data_frame)"
   ]
  },
  {
   "cell_type": "code",
   "execution_count": 169,
   "metadata": {},
   "outputs": [
    {
     "data": {
      "text/plain": [
       "0       2.0\n",
       "1       2.0\n",
       "2       6.0\n",
       "3       5.0\n",
       "4      17.0\n",
       "       ... \n",
       "140    10.0\n",
       "141    18.0\n",
       "142    42.0\n",
       "143    41.0\n",
       "144    30.0\n",
       "Name: 조회수, Length: 145, dtype: float64"
      ]
     },
     "execution_count": 169,
     "metadata": {},
     "output_type": "execute_result"
    }
   ],
   "source": [
    "pd.to_numeric(df['조회수'], downcast='integer')"
   ]
  },
  {
   "cell_type": "code",
   "execution_count": 170,
   "metadata": {},
   "outputs": [
    {
     "data": {
      "text/plain": [
       "dtype('float64')"
      ]
     },
     "execution_count": 170,
     "metadata": {},
     "output_type": "execute_result"
    }
   ],
   "source": [
    "cheese_data.조회수.dtypes"
   ]
  },
  {
   "cell_type": "code",
   "execution_count": 173,
   "metadata": {},
   "outputs": [
    {
     "data": {
      "text/plain": [
       "번호       0\n",
       "제품명      6\n",
       "후기 제목    6\n",
       "후기 상세    6\n",
       "작성일      6\n",
       "조회수      6\n",
       "dtype: int64"
      ]
     },
     "execution_count": 173,
     "metadata": {},
     "output_type": "execute_result"
    }
   ],
   "source": [
    "# 빈 값(NaN) 조회\n",
    "\n",
    "cheese_data_frame.isnull().sum()"
   ]
  },
  {
   "cell_type": "code",
   "execution_count": 174,
   "metadata": {},
   "outputs": [
    {
     "data": {
      "text/html": [
       "<div>\n",
       "<style scoped>\n",
       "    .dataframe tbody tr th:only-of-type {\n",
       "        vertical-align: middle;\n",
       "    }\n",
       "\n",
       "    .dataframe tbody tr th {\n",
       "        vertical-align: top;\n",
       "    }\n",
       "\n",
       "    .dataframe thead th {\n",
       "        text-align: right;\n",
       "    }\n",
       "</style>\n",
       "<table border=\"1\" class=\"dataframe\">\n",
       "  <thead>\n",
       "    <tr style=\"text-align: right;\">\n",
       "      <th></th>\n",
       "      <th>번호</th>\n",
       "      <th>제품명</th>\n",
       "      <th>후기 제목</th>\n",
       "      <th>후기 상세</th>\n",
       "      <th>작성일</th>\n",
       "      <th>조회수</th>\n",
       "    </tr>\n",
       "  </thead>\n",
       "  <tbody>\n",
       "    <tr>\n",
       "      <th>0</th>\n",
       "      <td>1</td>\n",
       "      <td>[퀘스크렘] 블루치즈 크림치즈</td>\n",
       "      <td>맛있어요</td>\n",
       "      <td>크림치즈는 사랑입니다</td>\n",
       "      <td>2020-10-19</td>\n",
       "      <td>2.0</td>\n",
       "    </tr>\n",
       "    <tr>\n",
       "      <th>1</th>\n",
       "      <td>2</td>\n",
       "      <td>[퀘스크렘] 블루치즈 크림치즈</td>\n",
       "      <td>만족합니다.</td>\n",
       "      <td>잘 숙성된 치즈의 향입니다.</td>\n",
       "      <td>2020-10-17</td>\n",
       "      <td>2.0</td>\n",
       "    </tr>\n",
       "    <tr>\n",
       "      <th>2</th>\n",
       "      <td>3</td>\n",
       "      <td>[퀘스크렘] 블루치즈 크림치즈</td>\n",
       "      <td>무난</td>\n",
       "      <td>블루치즈 잘 못먹는 분들도 드실 수 있을 것 같아요</td>\n",
       "      <td>2020-10-15</td>\n",
       "      <td>6.0</td>\n",
       "    </tr>\n",
       "    <tr>\n",
       "      <th>3</th>\n",
       "      <td>4</td>\n",
       "      <td>[퀘스크렘] 블루치즈 크림치즈</td>\n",
       "      <td>짱짱</td>\n",
       "      <td>재구매 의사 백프로입니다. 달지않고 짜지도 않은 데일리로 즐기기 좋은 깊이감있는 맛...</td>\n",
       "      <td>2020-10-15</td>\n",
       "      <td>5.0</td>\n",
       "    </tr>\n",
       "    <tr>\n",
       "      <th>4</th>\n",
       "      <td>5</td>\n",
       "      <td>[퀘스크렘] 블루치즈 크림치즈</td>\n",
       "      <td>베이글에</td>\n",
       "      <td>발라 먹어보려구요 ㅎㅎ</td>\n",
       "      <td>2020-10-15</td>\n",
       "      <td>17.0</td>\n",
       "    </tr>\n",
       "    <tr>\n",
       "      <th>...</th>\n",
       "      <td>...</td>\n",
       "      <td>...</td>\n",
       "      <td>...</td>\n",
       "      <td>...</td>\n",
       "      <td>...</td>\n",
       "      <td>...</td>\n",
       "    </tr>\n",
       "    <tr>\n",
       "      <th>140</th>\n",
       "      <td>141</td>\n",
       "      <td>[포인트 레이스] 오리지널 블루</td>\n",
       "      <td>좋아요</td>\n",
       "      <td>아빠가 항상 두고 드시는 블루치즈! 컬리에서 파는 프랑스,미국 블루치즈 둘다 보내드...</td>\n",
       "      <td>2020-08-23</td>\n",
       "      <td>10.0</td>\n",
       "    </tr>\n",
       "    <tr>\n",
       "      <th>141</th>\n",
       "      <td>142</td>\n",
       "      <td>[포인트 레이스] 오리지널 블루</td>\n",
       "      <td>블루</td>\n",
       "      <td>오리지널 블루치즈 쪼아요</td>\n",
       "      <td>2020-08-04</td>\n",
       "      <td>18.0</td>\n",
       "    </tr>\n",
       "    <tr>\n",
       "      <th>142</th>\n",
       "      <td>143</td>\n",
       "      <td>[포인트 레이스] 오리지널 블루</td>\n",
       "      <td>입이 즐거운</td>\n",
       "      <td>블루치즈 진하고 풍미가 있어 맛있게 잘먹었어요~!</td>\n",
       "      <td>2020-08-04</td>\n",
       "      <td>42.0</td>\n",
       "    </tr>\n",
       "    <tr>\n",
       "      <th>143</th>\n",
       "      <td>144</td>\n",
       "      <td>[포인트 레이스] 오리지널 블루</td>\n",
       "      <td>샐러드에 빵에</td>\n",
       "      <td>포인트로 조금씩 얹어 먹어요</td>\n",
       "      <td>2020-08-02</td>\n",
       "      <td>41.0</td>\n",
       "    </tr>\n",
       "    <tr>\n",
       "      <th>144</th>\n",
       "      <td>145</td>\n",
       "      <td>[포인트 레이스] 오리지널 블루</td>\n",
       "      <td>꼬릿</td>\n",
       "      <td>꼬잇한 향에 익숙치 않으시다면 비추지만 찐한 레드와인에는 강추입니다</td>\n",
       "      <td>2020-07-30</td>\n",
       "      <td>30.0</td>\n",
       "    </tr>\n",
       "  </tbody>\n",
       "</table>\n",
       "<p>139 rows × 6 columns</p>\n",
       "</div>"
      ],
      "text/plain": [
       "      번호                제품명    후기 제목  \\\n",
       "0      1   [퀘스크렘] 블루치즈 크림치즈     맛있어요   \n",
       "1      2   [퀘스크렘] 블루치즈 크림치즈   만족합니다.   \n",
       "2      3   [퀘스크렘] 블루치즈 크림치즈       무난   \n",
       "3      4   [퀘스크렘] 블루치즈 크림치즈       짱짱   \n",
       "4      5   [퀘스크렘] 블루치즈 크림치즈     베이글에   \n",
       "..   ...                ...      ...   \n",
       "140  141  [포인트 레이스] 오리지널 블루      좋아요   \n",
       "141  142  [포인트 레이스] 오리지널 블루       블루   \n",
       "142  143  [포인트 레이스] 오리지널 블루   입이 즐거운   \n",
       "143  144  [포인트 레이스] 오리지널 블루  샐러드에 빵에   \n",
       "144  145  [포인트 레이스] 오리지널 블루      꼬릿    \n",
       "\n",
       "                                                 후기 상세         작성일   조회수  \n",
       "0                                          크림치즈는 사랑입니다  2020-10-19   2.0  \n",
       "1                                      잘 숙성된 치즈의 향입니다.  2020-10-17   2.0  \n",
       "2                         블루치즈 잘 못먹는 분들도 드실 수 있을 것 같아요  2020-10-15   6.0  \n",
       "3    재구매 의사 백프로입니다. 달지않고 짜지도 않은 데일리로 즐기기 좋은 깊이감있는 맛...  2020-10-15   5.0  \n",
       "4                                         발라 먹어보려구요 ㅎㅎ  2020-10-15  17.0  \n",
       "..                                                 ...         ...   ...  \n",
       "140  아빠가 항상 두고 드시는 블루치즈! 컬리에서 파는 프랑스,미국 블루치즈 둘다 보내드...  2020-08-23  10.0  \n",
       "141                                      오리지널 블루치즈 쪼아요  2020-08-04  18.0  \n",
       "142                        블루치즈 진하고 풍미가 있어 맛있게 잘먹었어요~!  2020-08-04  42.0  \n",
       "143                                    포인트로 조금씩 얹어 먹어요  2020-08-02  41.0  \n",
       "144              꼬잇한 향에 익숙치 않으시다면 비추지만 찐한 레드와인에는 강추입니다  2020-07-30  30.0  \n",
       "\n",
       "[139 rows x 6 columns]"
      ]
     },
     "execution_count": 174,
     "metadata": {},
     "output_type": "execute_result"
    }
   ],
   "source": [
    "# 빈 값(NaN) 제거 후 df 조회, 행이 줄어든 것이 확인된다.\n",
    "cheese_data_frame = cheese_data_frame.dropna()\n",
    "\n",
    "cheese_data_frame"
   ]
  },
  {
   "cell_type": "code",
   "execution_count": 175,
   "metadata": {},
   "outputs": [
    {
     "data": {
      "text/plain": [
       "번호       0\n",
       "제품명      0\n",
       "후기 제목    0\n",
       "후기 상세    0\n",
       "작성일      0\n",
       "조회수      0\n",
       "dtype: int64"
      ]
     },
     "execution_count": 175,
     "metadata": {},
     "output_type": "execute_result"
    }
   ],
   "source": [
    "# 빈 값(NaN) 다시 조회\n",
    "\n",
    "cheese_data_frame.isnull().sum()"
   ]
  },
  {
   "cell_type": "code",
   "execution_count": 178,
   "metadata": {},
   "outputs": [],
   "source": [
    "# csv 파일로 저장하기\n",
    "cheese_data_frame.to_csv('cheese_EMP.csv')"
   ]
  },
  {
   "cell_type": "code",
   "execution_count": 179,
   "metadata": {},
   "outputs": [],
   "source": [
    "# csv 파일 구분자 쉼표(,)로 되있던 것 세미콜론(;)으로 바꾸기\n",
    "with open('cheese_EMP.csv', 'r', encoding='utf-8') as f_in, open(\"cheese_convert_file\", 'w') as f_out:\n",
    "    for line in f_in:\n",
    "        line = line.split(\",\")\n",
    "        line = \";\".join(line)\n",
    "        f_out.write(line)"
   ]
  },
  {
   "cell_type": "code",
   "execution_count": 180,
   "metadata": {},
   "outputs": [],
   "source": [
    "# 번호 컬럼 삭제하기\n",
    "# axis = 1 은 열로 제거, axis = 0은 행으로 제거\n",
    "feats = cheese_data_frame.drop('번호', axis = 1)"
   ]
  },
  {
   "cell_type": "code",
   "execution_count": 182,
   "metadata": {},
   "outputs": [
    {
     "data": {
      "text/html": [
       "<div>\n",
       "<style scoped>\n",
       "    .dataframe tbody tr th:only-of-type {\n",
       "        vertical-align: middle;\n",
       "    }\n",
       "\n",
       "    .dataframe tbody tr th {\n",
       "        vertical-align: top;\n",
       "    }\n",
       "\n",
       "    .dataframe thead th {\n",
       "        text-align: right;\n",
       "    }\n",
       "</style>\n",
       "<table border=\"1\" class=\"dataframe\">\n",
       "  <thead>\n",
       "    <tr style=\"text-align: right;\">\n",
       "      <th></th>\n",
       "      <th>제품명</th>\n",
       "      <th>후기 제목</th>\n",
       "      <th>후기 상세</th>\n",
       "      <th>작성일</th>\n",
       "      <th>조회수</th>\n",
       "    </tr>\n",
       "  </thead>\n",
       "  <tbody>\n",
       "    <tr>\n",
       "      <th>0</th>\n",
       "      <td>[퀘스크렘] 블루치즈 크림치즈</td>\n",
       "      <td>맛있어요</td>\n",
       "      <td>크림치즈는 사랑입니다</td>\n",
       "      <td>2020-10-19</td>\n",
       "      <td>2.0</td>\n",
       "    </tr>\n",
       "    <tr>\n",
       "      <th>1</th>\n",
       "      <td>[퀘스크렘] 블루치즈 크림치즈</td>\n",
       "      <td>만족합니다.</td>\n",
       "      <td>잘 숙성된 치즈의 향입니다.</td>\n",
       "      <td>2020-10-17</td>\n",
       "      <td>2.0</td>\n",
       "    </tr>\n",
       "    <tr>\n",
       "      <th>2</th>\n",
       "      <td>[퀘스크렘] 블루치즈 크림치즈</td>\n",
       "      <td>무난</td>\n",
       "      <td>블루치즈 잘 못먹는 분들도 드실 수 있을 것 같아요</td>\n",
       "      <td>2020-10-15</td>\n",
       "      <td>6.0</td>\n",
       "    </tr>\n",
       "    <tr>\n",
       "      <th>3</th>\n",
       "      <td>[퀘스크렘] 블루치즈 크림치즈</td>\n",
       "      <td>짱짱</td>\n",
       "      <td>재구매 의사 백프로입니다. 달지않고 짜지도 않은 데일리로 즐기기 좋은 깊이감있는 맛...</td>\n",
       "      <td>2020-10-15</td>\n",
       "      <td>5.0</td>\n",
       "    </tr>\n",
       "    <tr>\n",
       "      <th>4</th>\n",
       "      <td>[퀘스크렘] 블루치즈 크림치즈</td>\n",
       "      <td>베이글에</td>\n",
       "      <td>발라 먹어보려구요 ㅎㅎ</td>\n",
       "      <td>2020-10-15</td>\n",
       "      <td>17.0</td>\n",
       "    </tr>\n",
       "    <tr>\n",
       "      <th>...</th>\n",
       "      <td>...</td>\n",
       "      <td>...</td>\n",
       "      <td>...</td>\n",
       "      <td>...</td>\n",
       "      <td>...</td>\n",
       "    </tr>\n",
       "    <tr>\n",
       "      <th>140</th>\n",
       "      <td>[포인트 레이스] 오리지널 블루</td>\n",
       "      <td>좋아요</td>\n",
       "      <td>아빠가 항상 두고 드시는 블루치즈! 컬리에서 파는 프랑스,미국 블루치즈 둘다 보내드...</td>\n",
       "      <td>2020-08-23</td>\n",
       "      <td>10.0</td>\n",
       "    </tr>\n",
       "    <tr>\n",
       "      <th>141</th>\n",
       "      <td>[포인트 레이스] 오리지널 블루</td>\n",
       "      <td>블루</td>\n",
       "      <td>오리지널 블루치즈 쪼아요</td>\n",
       "      <td>2020-08-04</td>\n",
       "      <td>18.0</td>\n",
       "    </tr>\n",
       "    <tr>\n",
       "      <th>142</th>\n",
       "      <td>[포인트 레이스] 오리지널 블루</td>\n",
       "      <td>입이 즐거운</td>\n",
       "      <td>블루치즈 진하고 풍미가 있어 맛있게 잘먹었어요~!</td>\n",
       "      <td>2020-08-04</td>\n",
       "      <td>42.0</td>\n",
       "    </tr>\n",
       "    <tr>\n",
       "      <th>143</th>\n",
       "      <td>[포인트 레이스] 오리지널 블루</td>\n",
       "      <td>샐러드에 빵에</td>\n",
       "      <td>포인트로 조금씩 얹어 먹어요</td>\n",
       "      <td>2020-08-02</td>\n",
       "      <td>41.0</td>\n",
       "    </tr>\n",
       "    <tr>\n",
       "      <th>144</th>\n",
       "      <td>[포인트 레이스] 오리지널 블루</td>\n",
       "      <td>꼬릿</td>\n",
       "      <td>꼬잇한 향에 익숙치 않으시다면 비추지만 찐한 레드와인에는 강추입니다</td>\n",
       "      <td>2020-07-30</td>\n",
       "      <td>30.0</td>\n",
       "    </tr>\n",
       "  </tbody>\n",
       "</table>\n",
       "<p>139 rows × 5 columns</p>\n",
       "</div>"
      ],
      "text/plain": [
       "                   제품명    후기 제목  \\\n",
       "0     [퀘스크렘] 블루치즈 크림치즈     맛있어요   \n",
       "1     [퀘스크렘] 블루치즈 크림치즈   만족합니다.   \n",
       "2     [퀘스크렘] 블루치즈 크림치즈       무난   \n",
       "3     [퀘스크렘] 블루치즈 크림치즈       짱짱   \n",
       "4     [퀘스크렘] 블루치즈 크림치즈     베이글에   \n",
       "..                 ...      ...   \n",
       "140  [포인트 레이스] 오리지널 블루      좋아요   \n",
       "141  [포인트 레이스] 오리지널 블루       블루   \n",
       "142  [포인트 레이스] 오리지널 블루   입이 즐거운   \n",
       "143  [포인트 레이스] 오리지널 블루  샐러드에 빵에   \n",
       "144  [포인트 레이스] 오리지널 블루      꼬릿    \n",
       "\n",
       "                                                 후기 상세         작성일   조회수  \n",
       "0                                          크림치즈는 사랑입니다  2020-10-19   2.0  \n",
       "1                                      잘 숙성된 치즈의 향입니다.  2020-10-17   2.0  \n",
       "2                         블루치즈 잘 못먹는 분들도 드실 수 있을 것 같아요  2020-10-15   6.0  \n",
       "3    재구매 의사 백프로입니다. 달지않고 짜지도 않은 데일리로 즐기기 좋은 깊이감있는 맛...  2020-10-15   5.0  \n",
       "4                                         발라 먹어보려구요 ㅎㅎ  2020-10-15  17.0  \n",
       "..                                                 ...         ...   ...  \n",
       "140  아빠가 항상 두고 드시는 블루치즈! 컬리에서 파는 프랑스,미국 블루치즈 둘다 보내드...  2020-08-23  10.0  \n",
       "141                                      오리지널 블루치즈 쪼아요  2020-08-04  18.0  \n",
       "142                        블루치즈 진하고 풍미가 있어 맛있게 잘먹었어요~!  2020-08-04  42.0  \n",
       "143                                    포인트로 조금씩 얹어 먹어요  2020-08-02  41.0  \n",
       "144              꼬잇한 향에 익숙치 않으시다면 비추지만 찐한 레드와인에는 강추입니다  2020-07-30  30.0  \n",
       "\n",
       "[139 rows x 5 columns]"
      ]
     },
     "execution_count": 182,
     "metadata": {},
     "output_type": "execute_result"
    }
   ],
   "source": [
    "# 번호 컬럼 제거 후 df 조회\n",
    "feats"
   ]
  },
  {
   "cell_type": "code",
   "execution_count": 186,
   "metadata": {},
   "outputs": [],
   "source": [
    "# 번호 컬럼 제거한 df를 csv로 저장하기\n",
    "\n",
    "feats.to_csv('cheese_EMP_2.csv')"
   ]
  },
  {
   "cell_type": "code",
   "execution_count": 187,
   "metadata": {},
   "outputs": [],
   "source": [
    "# csv 파일 구분자 쉼표(,)로 되있던 것 세미콜론(;)으로 바꾸기\n",
    "with open('cheese_EMP_2.csv', 'r', encoding='utf-8') as f_in, open(\"cheese_EMP_2_convert.csv\", 'w') as f_out:\n",
    "    for line in f_in:\n",
    "        line = line.split(\",\")\n",
    "        line = \";\".join(line)\n",
    "        f_out.write(line)"
   ]
  },
  {
   "cell_type": "code",
   "execution_count": null,
   "metadata": {},
   "outputs": [],
   "source": [
    "========================================== 아래로는 예전에 작성했던 코드 =========================================="
   ]
  },
  {
   "cell_type": "code",
   "execution_count": 61,
   "metadata": {},
   "outputs": [
    {
     "name": "stdout",
     "output_type": "stream",
     "text": [
      "Requirement already satisfied: pymysql in /home/bitai/anaconda3/lib/python3.7/site-packages (0.9.3)\n",
      "Note: you may need to restart the kernel to use updated packages.\n"
     ]
    }
   ],
   "source": [
    "pip install pymysql"
   ]
  },
  {
   "cell_type": "code",
   "execution_count": 64,
   "metadata": {},
   "outputs": [
    {
     "ename": "SyntaxError",
     "evalue": "invalid syntax (<ipython-input-64-22b3bee365f7>, line 3)",
     "output_type": "error",
     "traceback": [
      "\u001b[0;36m  File \u001b[0;32m\"<ipython-input-64-22b3bee365f7>\"\u001b[0;36m, line \u001b[0;32m3\u001b[0m\n\u001b[0;31m    CREATE TABLE video_crawl_db(\u001b[0m\n\u001b[0m               ^\u001b[0m\n\u001b[0;31mSyntaxError\u001b[0m\u001b[0;31m:\u001b[0m invalid syntax\n"
     ]
    }
   ],
   "source": [
    "# mysql로 DB 만들기\n",
    "# video_crawl_db의 테이블\n",
    "\n",
    "CREATE TABLE video_crawl_table(\n",
    "    `youtube_no` INT NOT NULL AUTO_INCREMENT, # PK\n",
    "    `youtuber_name` VARCHAR(80),\n",
    "    `youtube_title` VARCHAR(100),\n",
    "    `youtube_play_time` VARCHAR(30),\n",
    "    `subscribe_num` VARCHAR(100),\n",
    "    `views_num` VARCHAR(100),\n",
    "    `upload_time` VARCHAR(80),\n",
    "    `crawling_time` VARCHAR(80),\n",
    "    `youtube_link` VARCHAR(100),\n",
    "    PRIMARY KEY(youtube_no)\n",
    ") CHARSET = utf8;"
   ]
  },
  {
   "cell_type": "code",
   "execution_count": null,
   "metadata": {},
   "outputs": [],
   "source": [
    "# 으 아아아아"
   ]
  },
  {
   "cell_type": "code",
   "execution_count": 13,
   "metadata": {},
   "outputs": [
    {
     "data": {
      "text/plain": [
       "set"
      ]
     },
     "execution_count": 13,
     "metadata": {},
     "output_type": "execute_result"
    }
   ],
   "source": [
    "a = {1,2,3}\n",
    "\n",
    "type(a)"
   ]
  },
  {
   "cell_type": "code",
   "execution_count": 14,
   "metadata": {},
   "outputs": [
    {
     "data": {
      "text/plain": [
       "list"
      ]
     },
     "execution_count": 14,
     "metadata": {},
     "output_type": "execute_result"
    }
   ],
   "source": [
    "b = [1,2,3]\n",
    "\n",
    "type(b)"
   ]
  },
  {
   "cell_type": "code",
   "execution_count": null,
   "metadata": {},
   "outputs": [],
   "source": [
    "# 크롤링 영문 단어 입력시 오타 주의"
   ]
  },
  {
   "cell_type": "code",
   "execution_count": null,
   "metadata": {},
   "outputs": [],
   "source": [
    "========================================== bye bye =========================================="
   ]
  },
  {
   "cell_type": "code",
   "execution_count": 22,
   "metadata": {},
   "outputs": [],
   "source": [
    "# not enough arguments for format string 오류로\n",
    "# 고통받다가 성공한 mysql insert 코드\n",
    "\n",
    "import pymysql\n",
    "\n",
    "connect = pymysql.connect(host='localhost', user='bitai', password='456123', db='testdb', charset='utf8mb4')\n",
    "cursor = connect.cursor()\n",
    "\n",
    "for r in youtube_video_list:\n",
    "    youtuber_name = str(r[0])\n",
    "    youtube_title = str(r[1])\n",
    "    youtube_play_time = str(r[2])\n",
    "    subscribe_num = str(r[3])\n",
    "    views_num = str(r[4])\n",
    "    upload_time = str(r[5])\n",
    "    crawling_time = str(r[6])\n",
    "    youtube_link = str(r[7])\n",
    "    \n",
    "    sql = \"\"\"insert into video_crawl_table \n",
    "    (\n",
    "    \n",
    "    youtuber_name, \n",
    "    youtube_title, \n",
    "    youtube_play_time, \n",
    "    subscribe_num, \n",
    "    views_num, \n",
    "    upload_time, \n",
    "    crawling_time, \n",
    "    youtube_link\n",
    "    \n",
    "    ) \n",
    "    \n",
    "    values ('%s', '%s', '%s', '%s', '%s', '%s', '%s', '%s')\n",
    "    \"\"\" % (youtuber_name, youtube_title, youtube_play_time, subscribe_num, views_num, upload_time, crawling_time, youtube_link)\n",
    "    \n",
    "    cursor.execute(sql)\n",
    "    connect.commit()\n",
    "    \n",
    "connect.close()"
   ]
  },
  {
   "cell_type": "code",
   "execution_count": 110,
   "metadata": {},
   "outputs": [],
   "source": []
  },
  {
   "cell_type": "code",
   "execution_count": null,
   "metadata": {},
   "outputs": [],
   "source": []
  }
 ],
 "metadata": {
  "kernelspec": {
   "display_name": "Python 3",
   "language": "python",
   "name": "python3"
  },
  "language_info": {
   "codemirror_mode": {
    "name": "ipython",
    "version": 3
   },
   "file_extension": ".py",
   "mimetype": "text/x-python",
   "name": "python",
   "nbconvert_exporter": "python",
   "pygments_lexer": "ipython3",
   "version": "3.7.6"
  }
 },
 "nbformat": 4,
 "nbformat_minor": 4
}
